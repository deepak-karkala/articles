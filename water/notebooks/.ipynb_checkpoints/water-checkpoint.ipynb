{
 "cells": [
  {
   "cell_type": "code",
   "execution_count": 1,
   "metadata": {},
   "outputs": [],
   "source": [
    "import numpy as np\n",
    "import pandas as pd\n",
    "import matplotlib.pyplot as plt\n",
    "%matplotlib inline \n",
    "import seaborn as sns\n",
    "pd.set_option(\"display.max_columns\", 100)\n",
    "import os\n",
    "import geojson\n",
    "import random"
   ]
  },
  {
   "cell_type": "markdown",
   "metadata": {},
   "source": [
    "### Circle packing water"
   ]
  },
  {
   "cell_type": "code",
   "execution_count": 29,
   "metadata": {},
   "outputs": [],
   "source": [
    "#1:Fresh accessible, 2:Fresh non-accessible, 0:Sea\n",
    "num_drops = 1000\n",
    "water_type = np.zeros(num_drops)\n",
    "water_type[0] = 1\n",
    "water_type[1:9] = 2\n",
    "random.shuffle(water_type)\n",
    "\n",
    "text = []\n",
    "for i in range(num_drops):\n",
    "    if water_type[i]==0:\n",
    "        text.append(\"allWater.sea\"+\",\"+str(100+np.random.randint(0,25))+\",\"+str(\"sea\"))\n",
    "    else:\n",
    "        if water_type[i]==1:\n",
    "            text.append(\"allWater.fresh.fresh_accessible\"+\",\"+str(1)+\",\"+str(\"fresh_accessible\"))\n",
    "        else:\n",
    "            text.append(\"allWater.fresh.fresh_nonaccessible\"+\",\"+str(100+np.random.randint(0,25))+\",\"+str(\"fresh_nonaccessible\"))\n",
    "\n",
    "savefilepath = \"../code/code/data/water_circle_pack.csv\"\n",
    "with open(savefilepath,'w') as file:\n",
    "    file.write(\"id,value,type\\n\")\n",
    "    for line in text:\n",
    "        file.write(line)\n",
    "        file.write('\\n')"
   ]
  },
  {
   "cell_type": "code",
   "execution_count": null,
   "metadata": {},
   "outputs": [],
   "source": []
  },
  {
   "cell_type": "markdown",
   "metadata": {},
   "source": [
    "### Circle packing population"
   ]
  },
  {
   "cell_type": "code",
   "execution_count": 48,
   "metadata": {
    "scrolled": true
   },
   "outputs": [
    {
     "data": {
      "text/html": [
       "<div>\n",
       "<style scoped>\n",
       "    .dataframe tbody tr th:only-of-type {\n",
       "        vertical-align: middle;\n",
       "    }\n",
       "\n",
       "    .dataframe tbody tr th {\n",
       "        vertical-align: top;\n",
       "    }\n",
       "\n",
       "    .dataframe thead th {\n",
       "        text-align: right;\n",
       "    }\n",
       "</style>\n",
       "<table border=\"1\" class=\"dataframe\">\n",
       "  <thead>\n",
       "    <tr style=\"text-align: right;\">\n",
       "      <th></th>\n",
       "      <th>Year</th>\n",
       "      <th>World</th>\n",
       "    </tr>\n",
       "  </thead>\n",
       "  <tbody>\n",
       "    <tr>\n",
       "      <th>1</th>\n",
       "      <td>-8000</td>\n",
       "      <td>1</td>\n",
       "    </tr>\n",
       "    <tr>\n",
       "      <th>2</th>\n",
       "      <td>-6500</td>\n",
       "      <td>0</td>\n",
       "    </tr>\n",
       "    <tr>\n",
       "      <th>3</th>\n",
       "      <td>-5000</td>\n",
       "      <td>0</td>\n",
       "    </tr>\n",
       "    <tr>\n",
       "      <th>4</th>\n",
       "      <td>-4000</td>\n",
       "      <td>2</td>\n",
       "    </tr>\n",
       "    <tr>\n",
       "      <th>5</th>\n",
       "      <td>-3000</td>\n",
       "      <td>7</td>\n",
       "    </tr>\n",
       "    <tr>\n",
       "      <th>6</th>\n",
       "      <td>-2000</td>\n",
       "      <td>13</td>\n",
       "    </tr>\n",
       "    <tr>\n",
       "      <th>7</th>\n",
       "      <td>-1000</td>\n",
       "      <td>23</td>\n",
       "    </tr>\n",
       "    <tr>\n",
       "      <th>8</th>\n",
       "      <td>-500</td>\n",
       "      <td>50</td>\n",
       "    </tr>\n",
       "    <tr>\n",
       "      <th>9</th>\n",
       "      <td>1</td>\n",
       "      <td>100</td>\n",
       "    </tr>\n",
       "    <tr>\n",
       "      <th>10</th>\n",
       "      <td>1000</td>\n",
       "      <td>200</td>\n",
       "    </tr>\n",
       "    <tr>\n",
       "      <th>11</th>\n",
       "      <td>1500</td>\n",
       "      <td>58</td>\n",
       "    </tr>\n",
       "    <tr>\n",
       "      <th>12</th>\n",
       "      <td>1600</td>\n",
       "      <td>122</td>\n",
       "    </tr>\n",
       "    <tr>\n",
       "      <th>13</th>\n",
       "      <td>1700</td>\n",
       "      <td>102</td>\n",
       "    </tr>\n",
       "    <tr>\n",
       "      <th>14</th>\n",
       "      <td>1750</td>\n",
       "      <td>109</td>\n",
       "    </tr>\n",
       "    <tr>\n",
       "      <th>15</th>\n",
       "      <td>1800</td>\n",
       "      <td>209</td>\n",
       "    </tr>\n",
       "    <tr>\n",
       "      <th>16</th>\n",
       "      <td>1850</td>\n",
       "      <td>262</td>\n",
       "    </tr>\n",
       "    <tr>\n",
       "      <th>17</th>\n",
       "      <td>1900</td>\n",
       "      <td>388</td>\n",
       "    </tr>\n",
       "    <tr>\n",
       "      <th>18</th>\n",
       "      <td>1950</td>\n",
       "      <td>875</td>\n",
       "    </tr>\n",
       "    <tr>\n",
       "      <th>19</th>\n",
       "      <td>1955</td>\n",
       "      <td>233</td>\n",
       "    </tr>\n",
       "    <tr>\n",
       "      <th>20</th>\n",
       "      <td>1960</td>\n",
       "      <td>260</td>\n",
       "    </tr>\n",
       "    <tr>\n",
       "      <th>21</th>\n",
       "      <td>1965</td>\n",
       "      <td>304</td>\n",
       "    </tr>\n",
       "    <tr>\n",
       "      <th>22</th>\n",
       "      <td>1970</td>\n",
       "      <td>360</td>\n",
       "    </tr>\n",
       "    <tr>\n",
       "      <th>23</th>\n",
       "      <td>1975</td>\n",
       "      <td>379</td>\n",
       "    </tr>\n",
       "    <tr>\n",
       "      <th>24</th>\n",
       "      <td>1980</td>\n",
       "      <td>379</td>\n",
       "    </tr>\n",
       "    <tr>\n",
       "      <th>25</th>\n",
       "      <td>1985</td>\n",
       "      <td>413</td>\n",
       "    </tr>\n",
       "    <tr>\n",
       "      <th>26</th>\n",
       "      <td>1990</td>\n",
       "      <td>457</td>\n",
       "    </tr>\n",
       "    <tr>\n",
       "      <th>27</th>\n",
       "      <td>1995</td>\n",
       "      <td>425</td>\n",
       "    </tr>\n",
       "    <tr>\n",
       "      <th>28</th>\n",
       "      <td>2000</td>\n",
       "      <td>392</td>\n",
       "    </tr>\n",
       "    <tr>\n",
       "      <th>29</th>\n",
       "      <td>2005</td>\n",
       "      <td>393</td>\n",
       "    </tr>\n",
       "    <tr>\n",
       "      <th>30</th>\n",
       "      <td>2010</td>\n",
       "      <td>410</td>\n",
       "    </tr>\n",
       "    <tr>\n",
       "      <th>31</th>\n",
       "      <td>2015</td>\n",
       "      <td>419</td>\n",
       "    </tr>\n",
       "    <tr>\n",
       "      <th>32</th>\n",
       "      <td>2020</td>\n",
       "      <td>368</td>\n",
       "    </tr>\n",
       "    <tr>\n",
       "      <th>33</th>\n",
       "      <td>2025</td>\n",
       "      <td>366</td>\n",
       "    </tr>\n",
       "    <tr>\n",
       "      <th>34</th>\n",
       "      <td>2030</td>\n",
       "      <td>342</td>\n",
       "    </tr>\n",
       "    <tr>\n",
       "      <th>35</th>\n",
       "      <td>2035</td>\n",
       "      <td>318</td>\n",
       "    </tr>\n",
       "    <tr>\n",
       "      <th>36</th>\n",
       "      <td>2040</td>\n",
       "      <td>296</td>\n",
       "    </tr>\n",
       "    <tr>\n",
       "      <th>37</th>\n",
       "      <td>2045</td>\n",
       "      <td>269</td>\n",
       "    </tr>\n",
       "    <tr>\n",
       "      <th>38</th>\n",
       "      <td>2050</td>\n",
       "      <td>243</td>\n",
       "    </tr>\n",
       "    <tr>\n",
       "      <th>39</th>\n",
       "      <td>2055</td>\n",
       "      <td>215</td>\n",
       "    </tr>\n",
       "    <tr>\n",
       "      <th>40</th>\n",
       "      <td>2060</td>\n",
       "      <td>191</td>\n",
       "    </tr>\n",
       "    <tr>\n",
       "      <th>41</th>\n",
       "      <td>2065</td>\n",
       "      <td>170</td>\n",
       "    </tr>\n",
       "    <tr>\n",
       "      <th>42</th>\n",
       "      <td>2070</td>\n",
       "      <td>150</td>\n",
       "    </tr>\n",
       "    <tr>\n",
       "      <th>43</th>\n",
       "      <td>2075</td>\n",
       "      <td>132</td>\n",
       "    </tr>\n",
       "    <tr>\n",
       "      <th>44</th>\n",
       "      <td>2080</td>\n",
       "      <td>115</td>\n",
       "    </tr>\n",
       "    <tr>\n",
       "      <th>45</th>\n",
       "      <td>2085</td>\n",
       "      <td>102</td>\n",
       "    </tr>\n",
       "    <tr>\n",
       "      <th>46</th>\n",
       "      <td>2090</td>\n",
       "      <td>91</td>\n",
       "    </tr>\n",
       "    <tr>\n",
       "      <th>47</th>\n",
       "      <td>2095</td>\n",
       "      <td>77</td>\n",
       "    </tr>\n",
       "    <tr>\n",
       "      <th>48</th>\n",
       "      <td>2100</td>\n",
       "      <td>60</td>\n",
       "    </tr>\n",
       "  </tbody>\n",
       "</table>\n",
       "</div>"
      ],
      "text/plain": [
       "    Year  World\n",
       "1  -8000      1\n",
       "2  -6500      0\n",
       "3  -5000      0\n",
       "4  -4000      2\n",
       "5  -3000      7\n",
       "6  -2000     13\n",
       "7  -1000     23\n",
       "8   -500     50\n",
       "9      1    100\n",
       "10  1000    200\n",
       "11  1500     58\n",
       "12  1600    122\n",
       "13  1700    102\n",
       "14  1750    109\n",
       "15  1800    209\n",
       "16  1850    262\n",
       "17  1900    388\n",
       "18  1950    875\n",
       "19  1955    233\n",
       "20  1960    260\n",
       "21  1965    304\n",
       "22  1970    360\n",
       "23  1975    379\n",
       "24  1980    379\n",
       "25  1985    413\n",
       "26  1990    457\n",
       "27  1995    425\n",
       "28  2000    392\n",
       "29  2005    393\n",
       "30  2010    410\n",
       "31  2015    419\n",
       "32  2020    368\n",
       "33  2025    366\n",
       "34  2030    342\n",
       "35  2035    318\n",
       "36  2040    296\n",
       "37  2045    269\n",
       "38  2050    243\n",
       "39  2055    215\n",
       "40  2060    191\n",
       "41  2065    170\n",
       "42  2070    150\n",
       "43  2075    132\n",
       "44  2080    115\n",
       "45  2085    102\n",
       "46  2090     91\n",
       "47  2095     77\n",
       "48  2100     60"
      ]
     },
     "execution_count": 48,
     "metadata": {},
     "output_type": "execute_result"
    }
   ],
   "source": [
    "df = pd.read_csv(\"../code/code/data/population_data.csv\")\n",
    "del df[\"Unnamed: 0\"]\n",
    "df_diff = df.set_index(\"Year\").diff().reset_index()[1:]\n",
    "df_diff[\"Year\"] = df_diff[\"Year\"].astype(int)\n",
    "df_diff[\"World\"] = df_diff[\"World\"].astype(int)\n",
    "df_diff"
   ]
  },
  {
   "cell_type": "code",
   "execution_count": 67,
   "metadata": {},
   "outputs": [],
   "source": [
    "text = []\n",
    "population_2100 = 10854\n",
    "for i in range(len(df_diff)):\n",
    "    Year = df_diff.iloc[i][\"Year\"]\n",
    "    for j in range(int(df_diff.iloc[i][\"World\"]/10)):\n",
    "        text.append(\"allPopulation.\"+str(Year)+\",\"+str(1)+\",\"+str(Year))\n",
    "\n",
    "savefilepath = \"../code/code/data/population_circle_pack.csv\"\n",
    "with open(savefilepath,'w') as file:\n",
    "    file.write(\"id,value,type\\n\")\n",
    "    for line in text:\n",
    "        file.write(line)\n",
    "        file.write('\\n')"
   ]
  },
  {
   "cell_type": "code",
   "execution_count": 69,
   "metadata": {},
   "outputs": [
    {
     "data": {
      "text/plain": [
       "array([    1,     1,     1,     3,    10,    23,    46,    96,   196,\n",
       "         396,   454,   576,   678,   787,   996,  1258,  1646,  2521,\n",
       "        2754,  3014,  3318,  3678,  4057,  4436,  4849,  5306,  5731,\n",
       "        6123,  6516,  6926,  7345,  7713,  8079,  8421,  8739,  9035,\n",
       "        9304,  9547,  9762,  9953, 10123, 10273, 10405, 10520, 10622,\n",
       "       10713, 10790, 10850])"
      ]
     },
     "execution_count": 69,
     "metadata": {},
     "output_type": "execute_result"
    }
   ],
   "source": [
    "df_diff[\"World\"].values.cumsum()"
   ]
  },
  {
   "cell_type": "code",
   "execution_count": 61,
   "metadata": {},
   "outputs": [
    {
     "data": {
      "text/plain": [
       "48"
      ]
     },
     "execution_count": 61,
     "metadata": {},
     "output_type": "execute_result"
    }
   ],
   "source": [
    "len(df_diff)"
   ]
  },
  {
   "cell_type": "code",
   "execution_count": 65,
   "metadata": {
    "scrolled": true
   },
   "outputs": [
    {
     "data": {
      "text/plain": [
       "[7.083333333333333,\n",
       " 7.166666666666667,\n",
       " 7.25,\n",
       " 7.333333333333333,\n",
       " 7.416666666666667,\n",
       " 7.5,\n",
       " 7.583333333333333,\n",
       " 7.666666666666667,\n",
       " 7.75,\n",
       " 7.833333333333333,\n",
       " 7.916666666666667,\n",
       " 8.0,\n",
       " 8.083333333333334,\n",
       " 8.166666666666666,\n",
       " 8.25,\n",
       " 8.333333333333334,\n",
       " 8.416666666666666,\n",
       " 8.5,\n",
       " 8.583333333333334,\n",
       " 8.666666666666666,\n",
       " 8.75,\n",
       " 8.833333333333334,\n",
       " 8.916666666666666,\n",
       " 9.0,\n",
       " 9.083333333333334,\n",
       " 9.166666666666666,\n",
       " 9.25,\n",
       " 9.333333333333334,\n",
       " 9.416666666666666,\n",
       " 9.5,\n",
       " 9.583333333333334,\n",
       " 9.666666666666666,\n",
       " 9.75,\n",
       " 9.833333333333334,\n",
       " 9.916666666666666,\n",
       " 10.0,\n",
       " 10.083333333333334,\n",
       " 10.166666666666666,\n",
       " 10.25,\n",
       " 10.333333333333334,\n",
       " 10.416666666666666,\n",
       " 10.5,\n",
       " 10.583333333333334,\n",
       " 10.666666666666666,\n",
       " 10.75,\n",
       " 10.833333333333334,\n",
       " 10.916666666666666,\n",
       " 11.0]"
      ]
     },
     "execution_count": 65,
     "metadata": {},
     "output_type": "execute_result"
    }
   ],
   "source": [
    "progress_step = []\n",
    "for j in [7,8,9,10]:\n",
    "    step = 0\n",
    "    for i in range(int(len(df_diff)/4)):\n",
    "        step += 1/(len(df_diff)/4);\n",
    "        progress_step.append(j+step);\n",
    "progress_step"
   ]
  },
  {
   "cell_type": "code",
   "execution_count": null,
   "metadata": {},
   "outputs": [],
   "source": []
  },
  {
   "cell_type": "markdown",
   "metadata": {},
   "source": [
    "### Country water scarcity score"
   ]
  },
  {
   "cell_type": "code",
   "execution_count": 3,
   "metadata": {
    "scrolled": true
   },
   "outputs": [],
   "source": [
    "dfw1 = pd.read_csv(\"../data/country_code.csv\")\n",
    "dfw1 = dfw1[[\"country\", \"code\"]]\n",
    "dfw2 = pd.read_csv(\"../data/water_scarcity_rank.csv\")\n",
    "dfw2 = dfw2[[\"country\", \"score\"]]\n",
    "\n",
    "dfw = dfw1.set_index(\"country\").join(dfw2.set_index(\"country\")).reset_index()\n",
    "dfw.dropna(inplace=True)\n",
    "dfw.to_csv(\"../code/code/data/water_scarcity_score.csv\", index=False)"
   ]
  },
  {
   "cell_type": "code",
   "execution_count": null,
   "metadata": {},
   "outputs": [],
   "source": []
  },
  {
   "cell_type": "markdown",
   "metadata": {},
   "source": [
    "### Agriculture"
   ]
  },
  {
   "cell_type": "code",
   "execution_count": 30,
   "metadata": {},
   "outputs": [],
   "source": [
    "india_population = 1361500000 #1361559384\n",
    "scale = 1e6\n",
    "india_population_scaled = np.floor(india_population/scale)"
   ]
  },
  {
   "cell_type": "code",
   "execution_count": 31,
   "metadata": {},
   "outputs": [],
   "source": [
    "agriculture_population = 0.6 * india_population\n",
    "agriculture_population_scaled = np.floor(agriculture_population/scale)\n",
    "agriculture_gdp = 13.7/100\n",
    "agriculture_gdp\n",
    "rest_gdp = 1-agriculture_gdp"
   ]
  },
  {
   "cell_type": "code",
   "execution_count": 32,
   "metadata": {},
   "outputs": [
    {
     "data": {
      "text/plain": [
       "1361.0"
      ]
     },
     "execution_count": 32,
     "metadata": {},
     "output_type": "execute_result"
    }
   ],
   "source": [
    "india_population_scaled"
   ]
  },
  {
   "cell_type": "code",
   "execution_count": 33,
   "metadata": {},
   "outputs": [
    {
     "data": {
      "text/plain": [
       "816.0"
      ]
     },
     "execution_count": 33,
     "metadata": {},
     "output_type": "execute_result"
    }
   ],
   "source": [
    "agriculture_population_scaled"
   ]
  },
  {
   "cell_type": "code",
   "execution_count": 34,
   "metadata": {},
   "outputs": [
    {
     "data": {
      "text/plain": [
       "545.0"
      ]
     },
     "execution_count": 34,
     "metadata": {},
     "output_type": "execute_result"
    }
   ],
   "source": [
    "rest_population_scaled = india_population_scaled - agriculture_population_scaled\n",
    "rest_population_scaled"
   ]
  },
  {
   "cell_type": "code",
   "execution_count": 35,
   "metadata": {},
   "outputs": [
    {
     "data": {
      "text/plain": [
       "0.00016789215686274507"
      ]
     },
     "execution_count": 35,
     "metadata": {},
     "output_type": "execute_result"
    }
   ],
   "source": [
    "agriculture_individual_contribution = agriculture_gdp / agriculture_population_scaled\n",
    "agriculture_individual_contribution"
   ]
  },
  {
   "cell_type": "code",
   "execution_count": 36,
   "metadata": {},
   "outputs": [
    {
     "data": {
      "text/plain": [
       "0.0015834862385321101"
      ]
     },
     "execution_count": 36,
     "metadata": {},
     "output_type": "execute_result"
    }
   ],
   "source": [
    "rest_individual_contribution = rest_gdp / rest_population_scaled\n",
    "rest_individual_contribution"
   ]
  },
  {
   "cell_type": "code",
   "execution_count": 37,
   "metadata": {},
   "outputs": [
    {
     "data": {
      "text/plain": [
       "9.431567668921183"
      ]
     },
     "execution_count": 37,
     "metadata": {},
     "output_type": "execute_result"
    }
   ],
   "source": [
    "ratio_radius = rest_individual_contribution / agriculture_individual_contribution\n",
    "ratio_radius"
   ]
  },
  {
   "cell_type": "code",
   "execution_count": 38,
   "metadata": {
    "scrolled": true
   },
   "outputs": [
    {
     "data": {
      "text/html": [
       "<div>\n",
       "<style scoped>\n",
       "    .dataframe tbody tr th:only-of-type {\n",
       "        vertical-align: middle;\n",
       "    }\n",
       "\n",
       "    .dataframe tbody tr th {\n",
       "        vertical-align: top;\n",
       "    }\n",
       "\n",
       "    .dataframe thead th {\n",
       "        text-align: right;\n",
       "    }\n",
       "</style>\n",
       "<table border=\"1\" class=\"dataframe\">\n",
       "  <thead>\n",
       "    <tr style=\"text-align: right;\">\n",
       "      <th></th>\n",
       "      <th>type</th>\n",
       "    </tr>\n",
       "  </thead>\n",
       "  <tbody>\n",
       "    <tr>\n",
       "      <th>0</th>\n",
       "      <td>0.0</td>\n",
       "    </tr>\n",
       "    <tr>\n",
       "      <th>1</th>\n",
       "      <td>0.0</td>\n",
       "    </tr>\n",
       "    <tr>\n",
       "      <th>2</th>\n",
       "      <td>0.0</td>\n",
       "    </tr>\n",
       "    <tr>\n",
       "      <th>3</th>\n",
       "      <td>0.0</td>\n",
       "    </tr>\n",
       "    <tr>\n",
       "      <th>4</th>\n",
       "      <td>0.0</td>\n",
       "    </tr>\n",
       "    <tr>\n",
       "      <th>5</th>\n",
       "      <td>0.0</td>\n",
       "    </tr>\n",
       "    <tr>\n",
       "      <th>6</th>\n",
       "      <td>0.0</td>\n",
       "    </tr>\n",
       "    <tr>\n",
       "      <th>7</th>\n",
       "      <td>0.0</td>\n",
       "    </tr>\n",
       "    <tr>\n",
       "      <th>8</th>\n",
       "      <td>0.0</td>\n",
       "    </tr>\n",
       "    <tr>\n",
       "      <th>9</th>\n",
       "      <td>0.0</td>\n",
       "    </tr>\n",
       "    <tr>\n",
       "      <th>10</th>\n",
       "      <td>0.0</td>\n",
       "    </tr>\n",
       "    <tr>\n",
       "      <th>11</th>\n",
       "      <td>0.0</td>\n",
       "    </tr>\n",
       "    <tr>\n",
       "      <th>12</th>\n",
       "      <td>0.0</td>\n",
       "    </tr>\n",
       "    <tr>\n",
       "      <th>13</th>\n",
       "      <td>0.0</td>\n",
       "    </tr>\n",
       "    <tr>\n",
       "      <th>14</th>\n",
       "      <td>0.0</td>\n",
       "    </tr>\n",
       "    <tr>\n",
       "      <th>15</th>\n",
       "      <td>0.0</td>\n",
       "    </tr>\n",
       "    <tr>\n",
       "      <th>16</th>\n",
       "      <td>0.0</td>\n",
       "    </tr>\n",
       "    <tr>\n",
       "      <th>17</th>\n",
       "      <td>0.0</td>\n",
       "    </tr>\n",
       "    <tr>\n",
       "      <th>18</th>\n",
       "      <td>0.0</td>\n",
       "    </tr>\n",
       "    <tr>\n",
       "      <th>19</th>\n",
       "      <td>0.0</td>\n",
       "    </tr>\n",
       "    <tr>\n",
       "      <th>20</th>\n",
       "      <td>0.0</td>\n",
       "    </tr>\n",
       "    <tr>\n",
       "      <th>21</th>\n",
       "      <td>0.0</td>\n",
       "    </tr>\n",
       "    <tr>\n",
       "      <th>22</th>\n",
       "      <td>0.0</td>\n",
       "    </tr>\n",
       "    <tr>\n",
       "      <th>23</th>\n",
       "      <td>0.0</td>\n",
       "    </tr>\n",
       "    <tr>\n",
       "      <th>24</th>\n",
       "      <td>0.0</td>\n",
       "    </tr>\n",
       "    <tr>\n",
       "      <th>25</th>\n",
       "      <td>0.0</td>\n",
       "    </tr>\n",
       "    <tr>\n",
       "      <th>26</th>\n",
       "      <td>0.0</td>\n",
       "    </tr>\n",
       "    <tr>\n",
       "      <th>27</th>\n",
       "      <td>0.0</td>\n",
       "    </tr>\n",
       "    <tr>\n",
       "      <th>28</th>\n",
       "      <td>0.0</td>\n",
       "    </tr>\n",
       "    <tr>\n",
       "      <th>29</th>\n",
       "      <td>0.0</td>\n",
       "    </tr>\n",
       "    <tr>\n",
       "      <th>...</th>\n",
       "      <td>...</td>\n",
       "    </tr>\n",
       "    <tr>\n",
       "      <th>1331</th>\n",
       "      <td>1.0</td>\n",
       "    </tr>\n",
       "    <tr>\n",
       "      <th>1332</th>\n",
       "      <td>1.0</td>\n",
       "    </tr>\n",
       "    <tr>\n",
       "      <th>1333</th>\n",
       "      <td>1.0</td>\n",
       "    </tr>\n",
       "    <tr>\n",
       "      <th>1334</th>\n",
       "      <td>1.0</td>\n",
       "    </tr>\n",
       "    <tr>\n",
       "      <th>1335</th>\n",
       "      <td>1.0</td>\n",
       "    </tr>\n",
       "    <tr>\n",
       "      <th>1336</th>\n",
       "      <td>1.0</td>\n",
       "    </tr>\n",
       "    <tr>\n",
       "      <th>1337</th>\n",
       "      <td>1.0</td>\n",
       "    </tr>\n",
       "    <tr>\n",
       "      <th>1338</th>\n",
       "      <td>1.0</td>\n",
       "    </tr>\n",
       "    <tr>\n",
       "      <th>1339</th>\n",
       "      <td>1.0</td>\n",
       "    </tr>\n",
       "    <tr>\n",
       "      <th>1340</th>\n",
       "      <td>1.0</td>\n",
       "    </tr>\n",
       "    <tr>\n",
       "      <th>1341</th>\n",
       "      <td>1.0</td>\n",
       "    </tr>\n",
       "    <tr>\n",
       "      <th>1342</th>\n",
       "      <td>1.0</td>\n",
       "    </tr>\n",
       "    <tr>\n",
       "      <th>1343</th>\n",
       "      <td>1.0</td>\n",
       "    </tr>\n",
       "    <tr>\n",
       "      <th>1344</th>\n",
       "      <td>1.0</td>\n",
       "    </tr>\n",
       "    <tr>\n",
       "      <th>1345</th>\n",
       "      <td>1.0</td>\n",
       "    </tr>\n",
       "    <tr>\n",
       "      <th>1346</th>\n",
       "      <td>1.0</td>\n",
       "    </tr>\n",
       "    <tr>\n",
       "      <th>1347</th>\n",
       "      <td>1.0</td>\n",
       "    </tr>\n",
       "    <tr>\n",
       "      <th>1348</th>\n",
       "      <td>1.0</td>\n",
       "    </tr>\n",
       "    <tr>\n",
       "      <th>1349</th>\n",
       "      <td>1.0</td>\n",
       "    </tr>\n",
       "    <tr>\n",
       "      <th>1350</th>\n",
       "      <td>1.0</td>\n",
       "    </tr>\n",
       "    <tr>\n",
       "      <th>1351</th>\n",
       "      <td>1.0</td>\n",
       "    </tr>\n",
       "    <tr>\n",
       "      <th>1352</th>\n",
       "      <td>1.0</td>\n",
       "    </tr>\n",
       "    <tr>\n",
       "      <th>1353</th>\n",
       "      <td>1.0</td>\n",
       "    </tr>\n",
       "    <tr>\n",
       "      <th>1354</th>\n",
       "      <td>1.0</td>\n",
       "    </tr>\n",
       "    <tr>\n",
       "      <th>1355</th>\n",
       "      <td>1.0</td>\n",
       "    </tr>\n",
       "    <tr>\n",
       "      <th>1356</th>\n",
       "      <td>1.0</td>\n",
       "    </tr>\n",
       "    <tr>\n",
       "      <th>1357</th>\n",
       "      <td>1.0</td>\n",
       "    </tr>\n",
       "    <tr>\n",
       "      <th>1358</th>\n",
       "      <td>1.0</td>\n",
       "    </tr>\n",
       "    <tr>\n",
       "      <th>1359</th>\n",
       "      <td>1.0</td>\n",
       "    </tr>\n",
       "    <tr>\n",
       "      <th>1360</th>\n",
       "      <td>1.0</td>\n",
       "    </tr>\n",
       "  </tbody>\n",
       "</table>\n",
       "<p>1361 rows × 1 columns</p>\n",
       "</div>"
      ],
      "text/plain": [
       "      type\n",
       "0      0.0\n",
       "1      0.0\n",
       "2      0.0\n",
       "3      0.0\n",
       "4      0.0\n",
       "5      0.0\n",
       "6      0.0\n",
       "7      0.0\n",
       "8      0.0\n",
       "9      0.0\n",
       "10     0.0\n",
       "11     0.0\n",
       "12     0.0\n",
       "13     0.0\n",
       "14     0.0\n",
       "15     0.0\n",
       "16     0.0\n",
       "17     0.0\n",
       "18     0.0\n",
       "19     0.0\n",
       "20     0.0\n",
       "21     0.0\n",
       "22     0.0\n",
       "23     0.0\n",
       "24     0.0\n",
       "25     0.0\n",
       "26     0.0\n",
       "27     0.0\n",
       "28     0.0\n",
       "29     0.0\n",
       "...    ...\n",
       "1331   1.0\n",
       "1332   1.0\n",
       "1333   1.0\n",
       "1334   1.0\n",
       "1335   1.0\n",
       "1336   1.0\n",
       "1337   1.0\n",
       "1338   1.0\n",
       "1339   1.0\n",
       "1340   1.0\n",
       "1341   1.0\n",
       "1342   1.0\n",
       "1343   1.0\n",
       "1344   1.0\n",
       "1345   1.0\n",
       "1346   1.0\n",
       "1347   1.0\n",
       "1348   1.0\n",
       "1349   1.0\n",
       "1350   1.0\n",
       "1351   1.0\n",
       "1352   1.0\n",
       "1353   1.0\n",
       "1354   1.0\n",
       "1355   1.0\n",
       "1356   1.0\n",
       "1357   1.0\n",
       "1358   1.0\n",
       "1359   1.0\n",
       "1360   1.0\n",
       "\n",
       "[1361 rows x 1 columns]"
      ]
     },
     "execution_count": 38,
     "metadata": {},
     "output_type": "execute_result"
    }
   ],
   "source": [
    "df = pd.DataFrame()\n",
    "idx = 0\n",
    "for i in range(int(india_population_scaled)):\n",
    "    if (i<agriculture_population_scaled):\n",
    "        df.at[idx, \"type\"] = 0\n",
    "    else:\n",
    "        df.at[idx, \"type\"] = 1\n",
    "    idx += 1\n",
    "df"
   ]
  },
  {
   "cell_type": "code",
   "execution_count": 39,
   "metadata": {},
   "outputs": [],
   "source": [
    "import csv\n",
    "with open('../code/code/data/india_population_circlepacking.csv', 'w') as fp:  \n",
    "    writer = csv.writer(fp)\n",
    "    writer.writerow([\"id\",\"value\",\"type\"])\n",
    "    for i in range(len(df)):\n",
    "        if (i<agriculture_population_scaled):\n",
    "            line = 'population.' + str(df.iloc[i][\"type\"]) + \",\" + str(1) + \",\" + str(df.iloc[i][\"type\"])\n",
    "        else:\n",
    "            line = 'population.' + str(df.iloc[i][\"type\"]) + \",\" + str(1) + \",\" + str(df.iloc[i][\"type\"])\n",
    "        writer.writerow([line])"
   ]
  },
  {
   "cell_type": "code",
   "execution_count": 40,
   "metadata": {},
   "outputs": [],
   "source": [
    "with open('../code/code/data/india_gdp_circlepacking.csv', 'w') as fp:  \n",
    "    writer = csv.writer(fp)\n",
    "    writer.writerow([\"id\",\"value\",\"type\"])\n",
    "    for i in range(len(df)):\n",
    "        if (i<agriculture_population_scaled):\n",
    "            line = 'population.' + str(df.iloc[i][\"type\"]) + \",\" + str(1) + \",\" + str(df.iloc[i][\"type\"])\n",
    "        else:\n",
    "            line = 'population.' + str(df.iloc[i][\"type\"]) + \",\" + str(9.4) + \",\" + str(df.iloc[i][\"type\"])\n",
    "        writer.writerow([line])"
   ]
  },
  {
   "cell_type": "code",
   "execution_count": null,
   "metadata": {},
   "outputs": [],
   "source": []
  },
  {
   "cell_type": "markdown",
   "metadata": {},
   "source": [
    "### Legacy"
   ]
  },
  {
   "cell_type": "code",
   "execution_count": 5,
   "metadata": {},
   "outputs": [],
   "source": [
    "text = []\n",
    "for i in range(1000):\n",
    "    if i<970:\n",
    "        text.append(\"allWater.sea\"+\",\"+str(100+np.random.randint(0,25))+\",\"+str(\"sea\"))\n",
    "    else:\n",
    "        if i==999:\n",
    "            text.append(\"allWater.fresh.fresh_accessible\"+\",\"+str(1)+\",\"+str(\"fresh_accessible\"))\n",
    "        else:\n",
    "            text.append(\"allWater.fresh.fresh_nonaccessible\"+\",\"+str(100+np.random.randint(0,25))+\",\"+str(\"fresh\"))\n",
    "\n",
    "savefilepath = \"../code/code/data/water_circle_pack.csv\"\n",
    "with open(savefilepath,'w') as file:\n",
    "    file.write(\"id,value,type\\n\")\n",
    "    for line in text:\n",
    "        file.write(line)\n",
    "        file.write('\\n')"
   ]
  },
  {
   "cell_type": "code",
   "execution_count": 39,
   "metadata": {},
   "outputs": [],
   "source": [
    "text = []\n",
    "for i in range(100):\n",
    "    if i<=96:\n",
    "        text.append(\"allWater.sea\"+\",\"+str(100+np.random.randint(0,25))+\",\"+str(\"sea\"))\n",
    "    else:\n",
    "        if i==99:\n",
    "            for j in range(100):\n",
    "                if j==99:\n",
    "                    text.append(\"allWater.fresh.fresh_accessible\"+\",\"+str(1)+\",\"+str(\"fresh_accessible\"))\n",
    "                else:\n",
    "                    text.append(\"allWater.fresh.fresh_nonaccessible\"+\",\"+str(1)+\",\"+str(\"fresh\"))\n",
    "        else:\n",
    "            text.append(\"allWater.fresh.fresh_nonaccessible\"+\",\"+str(100+np.random.randint(0,25))+\",\"+str(\"fresh\"))\n",
    "\n",
    "savefilepath = \"/Volumes/EXT64/backup/aim/journalism/articles/water/code/scroll_animation/data/two_dots/water_circle_pack.csv\"\n",
    "with open(savefilepath,'w') as file:\n",
    "    file.write(\"id,value,type\\n\")\n",
    "    for line in text:\n",
    "        file.write(line)\n",
    "        file.write('\\n')"
   ]
  },
  {
   "cell_type": "code",
   "execution_count": 45,
   "metadata": {},
   "outputs": [
    {
     "data": {
      "text/plain": [
       "array([5, 7, 7, 2])"
      ]
     },
     "execution_count": 45,
     "metadata": {},
     "output_type": "execute_result"
    }
   ],
   "source": [
    "np.random.randint(1,10,4)"
   ]
  },
  {
   "cell_type": "code",
   "execution_count": 50,
   "metadata": {
    "scrolled": true
   },
   "outputs": [],
   "source": []
  },
  {
   "cell_type": "code",
   "execution_count": 51,
   "metadata": {},
   "outputs": [
    {
     "data": {
      "text/plain": [
       "False"
      ]
     },
     "execution_count": 51,
     "metadata": {},
     "output_type": "execute_result"
    }
   ],
   "source": [
    "10 in random_int_arr"
   ]
  },
  {
   "cell_type": "code",
   "execution_count": 57,
   "metadata": {
    "collapsed": true
   },
   "outputs": [],
   "source": [
    "import random\n",
    "random_int_arr = random.sample(range(100), 3)\n",
    "\n",
    "text = []\n",
    "accessible = 0\n",
    "for i in range(100):\n",
    "    if i in random_int_arr:\n",
    "        if accessible==0:\n",
    "            text.append(\"allWater.fresh\"+\",\"+str(10+np.random.randint(0,2.5))+\",\"+str(\"fresh_accessible\")+\",\"+str(100))\n",
    "            accessible=1\n",
    "        else:\n",
    "            text.append(\"allWater.fresh\"+\",\"+str(10+np.random.randint(0,2.5))+\",\"+str(\"fresh_nonaccessible\")+\",\"+str(100))\n",
    "    else:\n",
    "        text.append(\"allWater.sea\"+\",\"+str(10+np.random.randint(0,2.5))+\",\"+str(\"sea\")+\",\"+str(100))\n",
    "\n",
    "savefilepath = \"/Volumes/EXT64/backup/aim/journalism/articles/water/code/scroll_animation/data/two_dots/water_circle_pack.csv\"\n",
    "with open(savefilepath,'w') as file:\n",
    "    file.write(\"id,value,type,radius\\n\")\n",
    "    for line in text:\n",
    "        file.write(line)\n",
    "        file.write('\\n')"
   ]
  },
  {
   "cell_type": "code",
   "execution_count": null,
   "metadata": {
    "collapsed": true
   },
   "outputs": [],
   "source": []
  },
  {
   "cell_type": "code",
   "execution_count": null,
   "metadata": {
    "collapsed": true
   },
   "outputs": [],
   "source": []
  }
 ],
 "metadata": {
  "anaconda-cloud": {},
  "kernelspec": {
   "display_name": "Python 3",
   "language": "python",
   "name": "python3"
  },
  "language_info": {
   "codemirror_mode": {
    "name": "ipython",
    "version": 3
   },
   "file_extension": ".py",
   "mimetype": "text/x-python",
   "name": "python",
   "nbconvert_exporter": "python",
   "pygments_lexer": "ipython3",
   "version": "3.6.5"
  }
 },
 "nbformat": 4,
 "nbformat_minor": 1
}
