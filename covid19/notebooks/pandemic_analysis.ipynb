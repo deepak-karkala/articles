{
 "cells": [
  {
   "cell_type": "code",
   "execution_count": 209,
   "metadata": {},
   "outputs": [],
   "source": [
    "import numpy as np\n",
    "import pandas as pd\n",
    "import matplotlib.pyplot as plt\n",
    "%matplotlib inline \n",
    "import seaborn as sns\n",
    "pd.set_option(\"display.max_columns\", 100)\n",
    "import os\n",
    "import geojson\n",
    "from geojson import Feature, FeatureCollection\n",
    "import requests\n",
    "from bs4 import BeautifulSoup\n",
    "import json"
   ]
  },
  {
   "cell_type": "code",
   "execution_count": null,
   "metadata": {},
   "outputs": [],
   "source": []
  },
  {
   "cell_type": "markdown",
   "metadata": {},
   "source": [
    "### Get starting and ending indices of each sheet"
   ]
  },
  {
   "cell_type": "code",
   "execution_count": 130,
   "metadata": {},
   "outputs": [],
   "source": [
    "f = open(\"../patientdb\", \"r\")\n",
    "res = f.read()\n",
    "soup1 = BeautifulSoup(res,'lxml')\n",
    "all_tr = soup1.findAll(\"tr\")\n"
   ]
  },
  {
   "cell_type": "code",
   "execution_count": 158,
   "metadata": {},
   "outputs": [
    {
     "name": "stdout",
     "output_type": "stream",
     "text": [
      "Patient Number 1\n",
      "Sl_No 8104\n",
      "State 9526\n",
      "Updated On 9567\n",
      "District 10522\n",
      "Date 11252\n",
      "Date 11326\n",
      "District 11410\n",
      "Update Time Stamp 11561\n",
      "PID 11700\n",
      "N 11941\n"
     ]
    }
   ],
   "source": [
    "start_idx_rawData = -1\n",
    "end_idx_rawData = -1\n",
    "\n",
    "start_idx_deathRecovered = -1\n",
    "end_idx_deathRecovered = -1\n",
    "\n",
    "start_idx_stateWise = -1\n",
    "end_idx_stateWise = -1\n",
    "\n",
    "start_idx_stateWiseTesting = -1\n",
    "end_idx_stateWiseTesting = -1\n",
    "\n",
    "start_idx_districtWise = -1\n",
    "end_idx_districtWise = -1\n",
    "\n",
    "start_idx_casesTimeSeries = -1\n",
    "end_idx_casesTimeSeries = -1\n",
    "\n",
    "start_idx_stateWiseDaily = -1\n",
    "end_idx_stateWiseDaily = -1\n",
    "\n",
    "#start_idx_mhdata = -1\n",
    "#end_idx_mhdata = -1\n",
    "\n",
    "start_idx_icmrTest = -1\n",
    "end_idx_icmrTest = -1\n",
    "\n",
    "start_idx_travelHistory = -1\n",
    "end_idx_travelHistory = -1\n",
    "\n",
    "for i in range(len(all_tr)):\n",
    "    tr_td = all_tr[i].findAll(\"td\")\n",
    "\n",
    "    if (len(tr_td)>2):\n",
    "        first_td_text = tr_td[0].text\n",
    "        second_td_text = tr_td[1].text\n",
    "        third_td_text = tr_td[2].text\n",
    "\n",
    "        if ((first_td_text==\"Patient Number\") and (second_td_text==\"State Patient Number\")):\n",
    "            print(first_td_text + \" \" + str(i))\n",
    "            start_idx_rawData = i+2\n",
    "        if ((first_td_text==\"Sl_No\") and (second_td_text==\"Date\")):\n",
    "            print(first_td_text + \" \" + str(i))\n",
    "            start_idx_deathRecovered = i+2\n",
    "            end_idx_rawData = i-2\n",
    "        if ((first_td_text==\"State\")): # and (second_td_text==\"Confirmed\")):\n",
    "            print(first_td_text + \" \" + str(i))\n",
    "            start_idx_stateWise = i+3  # i+1 will include total row (i+2 is empty)\n",
    "            end_idx_deathRecovered = i-2\n",
    "        if ((first_td_text==\"Updated On\") and (second_td_text==\"State\")):\n",
    "            print(first_td_text + \" \" + str(i))\n",
    "            start_idx_stateWiseTesting = i+2\n",
    "            end_idx_stateWise = i-2\n",
    "        if ((first_td_text==\"District\") and (second_td_text==\"State\")):\n",
    "            print(first_td_text + \" \" + str(i))\n",
    "            start_idx_districtWise = i+2\n",
    "            end_idx_stateWiseTesting = i-2\n",
    "        if ((first_td_text==\"Date\") and (second_td_text==\"Daily Confirmed\")):\n",
    "            print(first_td_text + \" \" + str(i))\n",
    "            start_idx_casesTimeSeries = i+1    # i+1 will include 30 jan, i+2 is empty\n",
    "            end_idx_districtWise = i-2\n",
    "        if ((first_td_text==\"Date\") and (second_td_text==\"Status\") and (third_td_text!=\"TT\")):\n",
    "            print(first_td_text + \" \" + str(i))\n",
    "            start_idx_stateWiseDaily = i+2   \n",
    "            end_idx_casesTimeSeries = i-2\n",
    "        if ((first_td_text==\"District\") and (second_td_text==\"\") and (third_td_text==\"6/4/2020\")):\n",
    "            print(first_td_text + \" \" + str(i))\n",
    "            #start_idx_mhdata = i+2   \n",
    "            end_idx_stateWiseDaily = i-2\n",
    "        if ((first_td_text==\"Update Time Stamp\") and (second_td_text==\"Total Samples Tested\")):\n",
    "            print(first_td_text + \" \" + str(i))\n",
    "            start_idx_icmrTest = i+2\n",
    "\n",
    "            row_idx = i+2\n",
    "            row_data = all_tr[row_idx]\n",
    "            first_col_text = row_data.find_all(\"td\")[0].text\n",
    "            end_idx_icmrTest = row_idx\n",
    "            while (first_col_text.endswith(\"pm\") or first_col_text.endswith(\"am\")):\n",
    "                row_idx+=1\n",
    "                end_idx_icmrTest = row_idx-1\n",
    "                row_data = all_tr[row_idx]\n",
    "                if len(row_data.find_all(\"td\"))>0:\n",
    "                    first_col_text = row_data.find_all(\"td\")[0].text\n",
    "                else:\n",
    "                    first_col_text = \"\"\n",
    "            \n",
    "        if ((second_td_text==\"PID\")):\n",
    "            print(second_td_text + \" \" + str(i))\n",
    "            start_idx_travelHistory = i+1  \n",
    "\n",
    "        if ((first_td_text==\"N\") and (second_td_text==\"District\")):\n",
    "            print(first_td_text + \" \" + str(i))\n",
    "            end_idx_travelHistory = i-2"
   ]
  },
  {
   "cell_type": "markdown",
   "metadata": {},
   "source": [
    "### Create files from each sheet"
   ]
  },
  {
   "cell_type": "code",
   "execution_count": 116,
   "metadata": {},
   "outputs": [],
   "source": [
    "########################### Raw Data ##############################\n",
    "rows_rawData = all_tr[start_idx_rawData: end_idx_rawData]\n",
    "df = pd.DataFrame()\n",
    "for row_idx in range(len(rows_rawData)):\n",
    "    row = rows_rawData[row_idx].findAll(\"td\")\n",
    "    df.at[row_idx, \"patient_number\"] = row[0].text\n",
    "    df.at[row_idx, \"date\"] = row[2].text\n",
    "    df.at[row_idx, \"age\"] = row[3].text\n",
    "    df.at[row_idx, \"gender\"] = row[4].text            \n",
    "    df.at[row_idx, \"city\"] = row[5].text\n",
    "    df.at[row_idx, \"district\"] = row[6].text\n",
    "    df.at[row_idx, \"state\"] = row[7].text\n",
    "    df.at[row_idx, \"state_code\"] = row[8].text\n",
    "    df.at[row_idx, \"state_patient_number\"] = row[1].text\n",
    "    df.at[row_idx, \"current_status\"] = row[9].text\n",
    "    df.at[row_idx, \"contracted_from\"] = row[11].text\n",
    "    df.at[row_idx, \"nationality\"] = row[12].text\n",
    "    df.at[row_idx, \"transmission_type\"] = row[13].text\n",
    "    df.at[row_idx, \"status_updated_on\"] = row[14].text\n",
    "    df.at[row_idx, \"notes\"] = row[10].text\n",
    "\n",
    "df = df[df[\"state\"]!=\"\"]\n",
    "df.to_csv(\"../data/extracted_data/raw_data.csv\", index=False)"
   ]
  },
  {
   "cell_type": "code",
   "execution_count": 118,
   "metadata": {},
   "outputs": [],
   "source": [
    "########################### Death Recovered ##############################\n",
    "rows_data = all_tr[start_idx_deathRecovered: end_idx_deathRecovered]\n",
    "df = pd.DataFrame()\n",
    "for row_idx in range(len(rows_data)):\n",
    "    row = rows_data[row_idx].findAll(\"td\")\n",
    "    df.at[row_idx, \"sl_no\"] = row[0].text\n",
    "    df.at[row_idx, \"date\"] = row[1].text\n",
    "    df.at[row_idx, \"age\"] = row[2].text\n",
    "    df.at[row_idx, \"gender\"] = row[3].text            \n",
    "    df.at[row_idx, \"status\"] = row[4].text\n",
    "    df.at[row_idx, \"city\"] = row[5].text\n",
    "    df.at[row_idx, \"district\"] = row[6].text\n",
    "    df.at[row_idx, \"state\"] = row[7].text\n",
    "    df.at[row_idx, \"state_code\"] = row[8].text\n",
    "    df.at[row_idx, \"nationality\"] = row[10].text\n",
    "    df.at[row_idx, \"patient_number\"] = row[14].text\n",
    "    df.at[row_idx, \"notes\"] = row[9].text\n",
    "\n",
    "df = df[df[\"state\"]!=\"\"]\n",
    "df.to_csv(\"../data/extracted_data/death_recovered.csv\", index=False)"
   ]
  },
  {
   "cell_type": "code",
   "execution_count": 122,
   "metadata": {},
   "outputs": [],
   "source": [
    "########################### State wise ##############################\n",
    "rows_data = all_tr[start_idx_stateWise: end_idx_stateWise]\n",
    "df = pd.DataFrame()\n",
    "for row_idx in range(len(rows_data)):\n",
    "    row = rows_data[row_idx].findAll(\"td\")\n",
    "    df.at[row_idx, \"state\"] = row[0].text\n",
    "    df.at[row_idx, \"confirmed\"] = row[2].text\n",
    "    df.at[row_idx, \"recovered\"] = row[3].text            \n",
    "    df.at[row_idx, \"deaths\"] = row[4].text\n",
    "    df.at[row_idx, \"active\"] = row[5].text\n",
    "    df.at[row_idx, \"last_updated\"] = row[6].text\n",
    "    df.at[row_idx, \"state_code\"] = row[7].text\n",
    "\n",
    "df = df[df[\"state\"]!=\"\"]\n",
    "df.to_csv(\"../data/extracted_data/statewise.csv\", index=False)"
   ]
  },
  {
   "cell_type": "code",
   "execution_count": null,
   "metadata": {},
   "outputs": [],
   "source": [
    "########################### State wise ##############################\n",
    "rows_data = all_tr[start_idx_stateWise: end_idx_stateWise]\n",
    "df = pd.DataFrame()\n",
    "for row_idx in range(len(rows_data)):\n",
    "    row = rows_data[row_idx].findAll(\"td\")\n",
    "    df.at[row_idx, \"state\"] = row[0].text\n",
    "    df.at[row_idx, \"confirmed\"] = row[2].text\n",
    "    df.at[row_idx, \"recovered\"] = row[3].text            \n",
    "    df.at[row_idx, \"deaths\"] = row[4].text\n",
    "    df.at[row_idx, \"active\"] = row[5].text\n",
    "    df.at[row_idx, \"last_updated\"] = row[6].text\n",
    "    df.at[row_idx, \"state_code\"] = row[7].text\n",
    "\n",
    "df = df[df[\"state\"]!=\"\"]\n",
    "df.to_csv(\"../data/extracted_data/statewise.csv\", index=False)"
   ]
  },
  {
   "cell_type": "code",
   "execution_count": 135,
   "metadata": {
    "scrolled": true
   },
   "outputs": [],
   "source": [
    "######################## State wise testing ########################\n",
    "rows_data = all_tr[start_idx_stateWiseTesting: end_idx_stateWiseTesting]\n",
    "df = pd.DataFrame()\n",
    "for row_idx in range(len(rows_data)):\n",
    "    row = rows_data[row_idx].findAll(\"td\")\n",
    "    df.at[row_idx, \"last_updated\"] = row[0].text\n",
    "    df.at[row_idx, \"state\"] = row[1].text\n",
    "    df.at[row_idx, \"total_tested\"] = row[2].text\n",
    "    df.at[row_idx, \"positive\"] = row[3].text            \n",
    "    df.at[row_idx, \"negative\"] = row[4].text\n",
    "    df.at[row_idx, \"unconfirmed\"] = row[5].text\n",
    "    df.at[row_idx, \"num_in_quarantine\"] = row[6].text\n",
    "    df.at[row_idx, \"num_released_from_quarantine\"] = row[7].text\n",
    "    df.at[row_idx, \"num_isolation_beds\"] = row[8].text\n",
    "    df.at[row_idx, \"num_icu_beds\"] = row[9].text\n",
    "    df.at[row_idx, \"num_ventilators\"] = row[10].text\n",
    "\n",
    "df = df[df[\"state\"]!=\"\"]\n",
    "df.to_csv(\"../data/extracted_data/statewise_testing.csv\", index=False)"
   ]
  },
  {
   "cell_type": "code",
   "execution_count": 138,
   "metadata": {},
   "outputs": [],
   "source": [
    "######################## District wise ########################\n",
    "rows_data = all_tr[start_idx_districtWise: end_idx_districtWise]\n",
    "df = pd.DataFrame()\n",
    "for row_idx in range(len(rows_data)):\n",
    "    row = rows_data[row_idx].findAll(\"td\")\n",
    "    df.at[row_idx, \"district\"] = row[0].text\n",
    "    df.at[row_idx, \"state\"] = row[1].text\n",
    "    df.at[row_idx, \"confirmed\"] = row[3].text\n",
    "    df.at[row_idx, \"recovered\"] = row[4].text            \n",
    "    df.at[row_idx, \"deaths\"] = row[5].text\n",
    "    df.at[row_idx, \"active\"] = row[6].text\n",
    "df = df[df[\"state\"]!=\"\"]\n",
    "df.to_csv(\"../data/extracted_data/districtwise.csv\", index=False)"
   ]
  },
  {
   "cell_type": "code",
   "execution_count": 187,
   "metadata": {},
   "outputs": [],
   "source": [
    "######################## Case time series ########################\n",
    "rows_data = all_tr[start_idx_casesTimeSeries: end_idx_casesTimeSeries+1]\n",
    "df = pd.DataFrame()\n",
    "for row_idx in range(len(rows_data)):\n",
    "    row = rows_data[row_idx].findAll(\"td\")\n",
    "    df.at[row_idx, \"date\"] = row[0].text\n",
    "    df.at[row_idx, \"daily_confirmed\"] = row[1].text\n",
    "    df.at[row_idx, \"total_confirmed\"] = row[2].text\n",
    "    df.at[row_idx, \"daily_recovered\"] = row[3].text\n",
    "    df.at[row_idx, \"total_recovered\"] = row[4].text\n",
    "    df.at[row_idx, \"daily_deaths\"] = row[5].text\n",
    "    df.at[row_idx, \"total_deaths\"] = row[6].text\n",
    "df.drop(index=1, inplace=True)\n",
    "df.to_csv(\"../data/extracted_data/cases_time_series.csv\", index=False)"
   ]
  },
  {
   "cell_type": "code",
   "execution_count": 162,
   "metadata": {},
   "outputs": [],
   "source": [
    "######################## Statewise daily ########################\n",
    "rows_data = all_tr[start_idx_stateWiseDaily: end_idx_stateWiseDaily+1]\n",
    "df = pd.DataFrame()\n",
    "\n",
    "col_names = []\n",
    "header_row = all_tr[start_idx_stateWiseDaily-2].findAll(\"td\")\n",
    "for i in range(len(header_row)):\n",
    "    col_names.append(header_row[i].text)\n",
    "    \n",
    "for row_idx in range(len(rows_data)):\n",
    "    row = rows_data[row_idx].findAll(\"td\")\n",
    "    \n",
    "    for col_idx in range(len(row)):\n",
    "        if col_idx!=2:\n",
    "            df.at[row_idx, col_names[col_idx]] = row[col_idx].text\n",
    "\n",
    "df.to_csv(\"../data/extracted_data/statewise_daily.csv\", index=False)"
   ]
  },
  {
   "cell_type": "code",
   "execution_count": 170,
   "metadata": {},
   "outputs": [],
   "source": [
    "######################## ICMR testing ########################\n",
    "rows_data = all_tr[start_idx_icmrTest: end_idx_icmrTest+1]\n",
    "df = pd.DataFrame()\n",
    "for row_idx in range(len(rows_data)):\n",
    "    row = rows_data[row_idx].findAll(\"td\")\n",
    "    df.at[row_idx, \"update_timestamp\"] = row[0].text\n",
    "    df.at[row_idx, \"total_samples_tested\"] = row[1].text\n",
    "    df.at[row_idx, \"total_individuals_tests\"] = row[2].text\n",
    "    df.at[row_idx, \"total_positive_cases\"] = row[3].text\n",
    "    df.at[row_idx, \"total_private_labs_tests\"] = row[4].text\n",
    "    df.at[row_idx, \"sample_reported_today\"] = row[5].text\n",
    "    df.at[row_idx, \"positive_cases_from_samples_reported\"] = row[6].text\n",
    "df.to_csv(\"../data/extracted_data/icmr_testing.csv\", index=False)"
   ]
  },
  {
   "cell_type": "code",
   "execution_count": 176,
   "metadata": {},
   "outputs": [],
   "source": [
    "######################## Travel history ########################\n",
    "rows_data = all_tr[start_idx_travelHistory: end_idx_travelHistory+1]\n",
    "df = pd.DataFrame()\n",
    "for row_idx in range(len(rows_data)):\n",
    "    row = rows_data[row_idx].findAll(\"td\")\n",
    "    df.at[row_idx, \"sl_no\"] = row[0].text\n",
    "    df.at[row_idx, \"pid\"] = row[1].text\n",
    "    df.at[row_idx, \"time_from\"] = row[2].text\n",
    "    df.at[row_idx, \"time_to\"] = row[3].text\n",
    "    df.at[row_idx, \"address\"] = row[4].text\n",
    "    if row[5].text == \"\":\n",
    "        df.at[row_idx, \"lat\"] = np.NAN\n",
    "        df.at[row_idx, \"long\"] = np.NAN\n",
    "    else:\n",
    "        df.at[row_idx, \"lat\"] = row[5].text.split(\",\")[0]\n",
    "        df.at[row_idx, \"long\"] = row[5].text.split(\",\")[1]\n",
    "    df.at[row_idx, \"location_accuracy\"] = row[6].text\n",
    "    df.at[row_idx, \"type\"] = row[7].text\n",
    "    df.at[row_idx, \"mode_of_travel\"] = row[8].text\n",
    "    df.at[row_idx, \"place_name\"] = row[9].text\n",
    "    \n",
    "df.to_csv(\"../data/extracted_data/travel_history.csv\", index=False)"
   ]
  },
  {
   "cell_type": "code",
   "execution_count": 182,
   "metadata": {},
   "outputs": [],
   "source": [
    "####################### State Code ######################\n",
    "df = pd.read_csv(\"../data/copied_data/state_codes.csv\", usecols=[1,2])\n",
    "df.columns = [\"state\", \"state_code\"]\n",
    "df.to_csv(\"../data/extracted_data/state_codes.csv\", index=False)"
   ]
  },
  {
   "cell_type": "code",
   "execution_count": 186,
   "metadata": {},
   "outputs": [],
   "source": [
    "####################### District list ######################\n",
    "df = pd.read_csv(\"../data/copied_data/district_list.csv\", usecols=[1,2,3,4])\n",
    "df.columns = [\"district\", \"state\", \"notes\", \"other_names\"]\n",
    "df.to_csv(\"../data/extracted_data/district_list.csv\", index=False)"
   ]
  },
  {
   "cell_type": "code",
   "execution_count": null,
   "metadata": {},
   "outputs": [],
   "source": []
  },
  {
   "cell_type": "code",
   "execution_count": null,
   "metadata": {},
   "outputs": [],
   "source": []
  },
  {
   "cell_type": "markdown",
   "metadata": {},
   "source": [
    "### Daily cases and deaths"
   ]
  },
  {
   "cell_type": "code",
   "execution_count": 202,
   "metadata": {
    "scrolled": true
   },
   "outputs": [
    {
     "data": {
      "text/html": [
       "<div>\n",
       "<style scoped>\n",
       "    .dataframe tbody tr th:only-of-type {\n",
       "        vertical-align: middle;\n",
       "    }\n",
       "\n",
       "    .dataframe tbody tr th {\n",
       "        vertical-align: top;\n",
       "    }\n",
       "\n",
       "    .dataframe thead th {\n",
       "        text-align: right;\n",
       "    }\n",
       "</style>\n",
       "<table border=\"1\" class=\"dataframe\">\n",
       "  <thead>\n",
       "    <tr style=\"text-align: right;\">\n",
       "      <th></th>\n",
       "      <th>date</th>\n",
       "      <th>daily_confirmed</th>\n",
       "      <th>total_confirmed</th>\n",
       "      <th>daily_deaths</th>\n",
       "      <th>total_deaths</th>\n",
       "      <th>7day_avg_confirmed</th>\n",
       "      <th>7day_avg_deaths</th>\n",
       "    </tr>\n",
       "  </thead>\n",
       "  <tbody>\n",
       "    <tr>\n",
       "      <th>0</th>\n",
       "      <td>2020-01-30</td>\n",
       "      <td>1</td>\n",
       "      <td>1</td>\n",
       "      <td>0</td>\n",
       "      <td>0</td>\n",
       "      <td>NaN</td>\n",
       "      <td>NaN</td>\n",
       "    </tr>\n",
       "    <tr>\n",
       "      <th>1</th>\n",
       "      <td>2020-01-31</td>\n",
       "      <td>0</td>\n",
       "      <td>1</td>\n",
       "      <td>0</td>\n",
       "      <td>0</td>\n",
       "      <td>NaN</td>\n",
       "      <td>NaN</td>\n",
       "    </tr>\n",
       "  </tbody>\n",
       "</table>\n",
       "</div>"
      ],
      "text/plain": [
       "        date  daily_confirmed  total_confirmed  daily_deaths  total_deaths  \\\n",
       "0 2020-01-30                1                1             0             0   \n",
       "1 2020-01-31                0                1             0             0   \n",
       "\n",
       "   7day_avg_confirmed  7day_avg_deaths  \n",
       "0                 NaN              NaN  \n",
       "1                 NaN              NaN  "
      ]
     },
     "execution_count": 202,
     "metadata": {},
     "output_type": "execute_result"
    }
   ],
   "source": [
    "df = pd.read_csv(\"../data/extracted_data/cases_time_series.csv\", usecols=[0,1,2,5,6])\n",
    "df[\"date\"] = df[\"date\"].str.strip()\n",
    "for i in range(len(df)):\n",
    "    df.at[i, \"date\"] = df.iloc[i][\"date\"] + \" 2020\"\n",
    "df[\"date\"] = pd.to_datetime(df[\"date\"])\n",
    "\n",
    "dfr = df.set_index(\"date\").rolling(7).mean().reset_index()[[\"date\", \"daily_confirmed\", \"daily_deaths\"]]\n",
    "dfr.columns = [\"date\", \"7day_avg_confirmed\", \"7day_avg_deaths\"]\n",
    "df = df.set_index(\"date\").join(dfr.set_index(\"date\")).reset_index()\n",
    "\n",
    "df.to_csv(\"../code/data/overall_and_daily_cases_deaths.csv\", index=False)\n",
    "df.head(2)"
   ]
  },
  {
   "cell_type": "code",
   "execution_count": null,
   "metadata": {},
   "outputs": [],
   "source": []
  },
  {
   "cell_type": "markdown",
   "metadata": {},
   "source": [
    "### District level map"
   ]
  },
  {
   "cell_type": "code",
   "execution_count": 233,
   "metadata": {},
   "outputs": [
    {
     "data": {
      "text/html": [
       "<div>\n",
       "<style scoped>\n",
       "    .dataframe tbody tr th:only-of-type {\n",
       "        vertical-align: middle;\n",
       "    }\n",
       "\n",
       "    .dataframe tbody tr th {\n",
       "        vertical-align: top;\n",
       "    }\n",
       "\n",
       "    .dataframe thead th {\n",
       "        text-align: right;\n",
       "    }\n",
       "</style>\n",
       "<table border=\"1\" class=\"dataframe\">\n",
       "  <thead>\n",
       "    <tr style=\"text-align: right;\">\n",
       "      <th></th>\n",
       "      <th>district</th>\n",
       "      <th>state</th>\n",
       "      <th>confirmed</th>\n",
       "      <th>recovered</th>\n",
       "      <th>deaths</th>\n",
       "      <th>active</th>\n",
       "    </tr>\n",
       "  </thead>\n",
       "  <tbody>\n",
       "    <tr>\n",
       "      <th>0</th>\n",
       "      <td>Nicobars</td>\n",
       "      <td>Andaman and Nicobar Islands</td>\n",
       "      <td>0</td>\n",
       "      <td>0</td>\n",
       "      <td>0</td>\n",
       "      <td>0</td>\n",
       "    </tr>\n",
       "    <tr>\n",
       "      <th>1</th>\n",
       "      <td>North and Middle Andaman</td>\n",
       "      <td>Andaman and Nicobar Islands</td>\n",
       "      <td>1</td>\n",
       "      <td>0</td>\n",
       "      <td>0</td>\n",
       "      <td>1</td>\n",
       "    </tr>\n",
       "  </tbody>\n",
       "</table>\n",
       "</div>"
      ],
      "text/plain": [
       "                   district                        state  confirmed  \\\n",
       "0                  Nicobars  Andaman and Nicobar Islands          0   \n",
       "1  North and Middle Andaman  Andaman and Nicobar Islands          1   \n",
       "\n",
       "   recovered  deaths  active  \n",
       "0          0       0       0  \n",
       "1          0       0       1  "
      ]
     },
     "execution_count": 233,
     "metadata": {},
     "output_type": "execute_result"
    }
   ],
   "source": [
    "df = pd.read_csv(\"../data/extracted_data/districtwise.csv\")\n",
    "df.head(2)"
   ]
  },
  {
   "cell_type": "code",
   "execution_count": null,
   "metadata": {},
   "outputs": [],
   "source": []
  },
  {
   "cell_type": "code",
   "execution_count": 286,
   "metadata": {},
   "outputs": [
    {
     "data": {
      "text/plain": [
       "5404"
      ]
     },
     "execution_count": 286,
     "metadata": {},
     "output_type": "execute_result"
    }
   ],
   "source": [
    "df[\"confirmed\"].sum()"
   ]
  },
  {
   "cell_type": "code",
   "execution_count": 280,
   "metadata": {},
   "outputs": [],
   "source": [
    "dfr = pd.read_csv(\"../data/extracted_data/raw_data.csv\")"
   ]
  },
  {
   "cell_type": "code",
   "execution_count": 281,
   "metadata": {},
   "outputs": [
    {
     "data": {
      "text/html": [
       "<div>\n",
       "<style scoped>\n",
       "    .dataframe tbody tr th:only-of-type {\n",
       "        vertical-align: middle;\n",
       "    }\n",
       "\n",
       "    .dataframe tbody tr th {\n",
       "        vertical-align: top;\n",
       "    }\n",
       "\n",
       "    .dataframe thead th {\n",
       "        text-align: right;\n",
       "    }\n",
       "</style>\n",
       "<table border=\"1\" class=\"dataframe\">\n",
       "  <thead>\n",
       "    <tr style=\"text-align: right;\">\n",
       "      <th></th>\n",
       "      <th>patient_number</th>\n",
       "      <th>date</th>\n",
       "      <th>age</th>\n",
       "      <th>gender</th>\n",
       "      <th>city</th>\n",
       "      <th>district</th>\n",
       "      <th>state</th>\n",
       "      <th>state_code</th>\n",
       "      <th>state_patient_number</th>\n",
       "      <th>current_status</th>\n",
       "      <th>contracted_from</th>\n",
       "      <th>nationality</th>\n",
       "      <th>transmission_type</th>\n",
       "      <th>status_updated_on</th>\n",
       "      <th>notes</th>\n",
       "    </tr>\n",
       "  </thead>\n",
       "  <tbody>\n",
       "    <tr>\n",
       "      <th>0</th>\n",
       "      <td>1</td>\n",
       "      <td>30/01/2020</td>\n",
       "      <td>20</td>\n",
       "      <td>F</td>\n",
       "      <td>Thrissur</td>\n",
       "      <td>Thrissur</td>\n",
       "      <td>Kerala</td>\n",
       "      <td>KL</td>\n",
       "      <td>KL-TS-P1</td>\n",
       "      <td>Recovered</td>\n",
       "      <td>NaN</td>\n",
       "      <td>India</td>\n",
       "      <td>Imported</td>\n",
       "      <td>14/02/2020</td>\n",
       "      <td>Travelled from Wuhan</td>\n",
       "    </tr>\n",
       "    <tr>\n",
       "      <th>1</th>\n",
       "      <td>2</td>\n",
       "      <td>02/02/2020</td>\n",
       "      <td>NaN</td>\n",
       "      <td>NaN</td>\n",
       "      <td>Alappuzha</td>\n",
       "      <td>Alappuzha</td>\n",
       "      <td>Kerala</td>\n",
       "      <td>KL</td>\n",
       "      <td>KL-AL-P1</td>\n",
       "      <td>Recovered</td>\n",
       "      <td>NaN</td>\n",
       "      <td>India</td>\n",
       "      <td>Imported</td>\n",
       "      <td>14/02/2020</td>\n",
       "      <td>Travelled from Wuhan</td>\n",
       "    </tr>\n",
       "  </tbody>\n",
       "</table>\n",
       "</div>"
      ],
      "text/plain": [
       "   patient_number        date  age gender       city   district   state  \\\n",
       "0               1  30/01/2020   20      F   Thrissur   Thrissur  Kerala   \n",
       "1               2  02/02/2020  NaN    NaN  Alappuzha  Alappuzha  Kerala   \n",
       "\n",
       "  state_code state_patient_number current_status contracted_from nationality  \\\n",
       "0         KL             KL-TS-P1      Recovered             NaN       India   \n",
       "1         KL             KL-AL-P1      Recovered             NaN       India   \n",
       "\n",
       "  transmission_type status_updated_on                 notes  \n",
       "0          Imported        14/02/2020  Travelled from Wuhan  \n",
       "1          Imported        14/02/2020  Travelled from Wuhan  "
      ]
     },
     "execution_count": 281,
     "metadata": {},
     "output_type": "execute_result"
    }
   ],
   "source": [
    "dfr.head(2)"
   ]
  },
  {
   "cell_type": "code",
   "execution_count": 282,
   "metadata": {},
   "outputs": [
    {
     "data": {
      "text/plain": [
       "array(['Recovered', 'Hospitalized', 'Deceased', 'Migrated', nan],\n",
       "      dtype=object)"
      ]
     },
     "execution_count": 282,
     "metadata": {},
     "output_type": "execute_result"
    }
   ],
   "source": [
    "dfr[\"current_status\"].unique()"
   ]
  },
  {
   "cell_type": "code",
   "execution_count": 283,
   "metadata": {},
   "outputs": [
    {
     "data": {
      "text/plain": [
       "6686"
      ]
     },
     "execution_count": 283,
     "metadata": {},
     "output_type": "execute_result"
    }
   ],
   "source": [
    "len(dfr[dfr[\"current_status\"]==\"Hospitalized\"])"
   ]
  },
  {
   "cell_type": "code",
   "execution_count": 284,
   "metadata": {},
   "outputs": [
    {
     "data": {
      "text/plain": [
       "6835"
      ]
     },
     "execution_count": 284,
     "metadata": {},
     "output_type": "execute_result"
    }
   ],
   "source": [
    "len(dfr)"
   ]
  },
  {
   "cell_type": "code",
   "execution_count": 285,
   "metadata": {},
   "outputs": [
    {
     "data": {
      "text/plain": [
       "119"
      ]
     },
     "execution_count": 285,
     "metadata": {},
     "output_type": "execute_result"
    }
   ],
   "source": [
    "len(dfr[dfr[\"current_status\"]==\"Recovered\"])"
   ]
  },
  {
   "cell_type": "code",
   "execution_count": 287,
   "metadata": {},
   "outputs": [
    {
     "data": {
      "text/plain": [
       "28"
      ]
     },
     "execution_count": 287,
     "metadata": {},
     "output_type": "execute_result"
    }
   ],
   "source": [
    "len(dfr[dfr[\"current_status\"]==\"Deceased\"])"
   ]
  },
  {
   "cell_type": "code",
   "execution_count": 289,
   "metadata": {},
   "outputs": [
    {
     "data": {
      "text/plain": [
       "6833"
      ]
     },
     "execution_count": 289,
     "metadata": {},
     "output_type": "execute_result"
    }
   ],
   "source": [
    "6686 + 28 + 119"
   ]
  },
  {
   "cell_type": "code",
   "execution_count": 291,
   "metadata": {},
   "outputs": [
    {
     "data": {
      "text/html": [
       "<div>\n",
       "<style scoped>\n",
       "    .dataframe tbody tr th:only-of-type {\n",
       "        vertical-align: middle;\n",
       "    }\n",
       "\n",
       "    .dataframe tbody tr th {\n",
       "        vertical-align: top;\n",
       "    }\n",
       "\n",
       "    .dataframe thead th {\n",
       "        text-align: right;\n",
       "    }\n",
       "</style>\n",
       "<table border=\"1\" class=\"dataframe\">\n",
       "  <thead>\n",
       "    <tr style=\"text-align: right;\">\n",
       "      <th></th>\n",
       "      <th>patient_number</th>\n",
       "      <th>date</th>\n",
       "      <th>age</th>\n",
       "      <th>gender</th>\n",
       "      <th>city</th>\n",
       "      <th>district</th>\n",
       "      <th>state</th>\n",
       "      <th>state_code</th>\n",
       "      <th>state_patient_number</th>\n",
       "      <th>current_status</th>\n",
       "      <th>contracted_from</th>\n",
       "      <th>nationality</th>\n",
       "      <th>transmission_type</th>\n",
       "      <th>status_updated_on</th>\n",
       "      <th>notes</th>\n",
       "    </tr>\n",
       "  </thead>\n",
       "  <tbody>\n",
       "    <tr>\n",
       "      <th>6833</th>\n",
       "      <td>6834</td>\n",
       "      <td>10/04/2020</td>\n",
       "      <td>35</td>\n",
       "      <td>M</td>\n",
       "      <td>NaN</td>\n",
       "      <td>Bengaluru Rural</td>\n",
       "      <td>Karnataka</td>\n",
       "      <td>KA</td>\n",
       "      <td>KA-P206</td>\n",
       "      <td>Hospitalized</td>\n",
       "      <td>KA-P169</td>\n",
       "      <td>NaN</td>\n",
       "      <td>NaN</td>\n",
       "      <td>NaN</td>\n",
       "      <td>Brother of KA-P169</td>\n",
       "    </tr>\n",
       "    <tr>\n",
       "      <th>6834</th>\n",
       "      <td>6835</td>\n",
       "      <td>10/04/2020</td>\n",
       "      <td>11</td>\n",
       "      <td>F</td>\n",
       "      <td>NaN</td>\n",
       "      <td>Bengaluru Rural</td>\n",
       "      <td>Karnataka</td>\n",
       "      <td>KA</td>\n",
       "      <td>KA-P207</td>\n",
       "      <td>Hospitalized</td>\n",
       "      <td>KA-P206</td>\n",
       "      <td>NaN</td>\n",
       "      <td>NaN</td>\n",
       "      <td>NaN</td>\n",
       "      <td>Daughter of KA-P206</td>\n",
       "    </tr>\n",
       "  </tbody>\n",
       "</table>\n",
       "</div>"
      ],
      "text/plain": [
       "      patient_number        date age gender city         district      state  \\\n",
       "6833            6834  10/04/2020  35      M  NaN  Bengaluru Rural  Karnataka   \n",
       "6834            6835  10/04/2020  11      F  NaN  Bengaluru Rural  Karnataka   \n",
       "\n",
       "     state_code state_patient_number current_status contracted_from  \\\n",
       "6833         KA              KA-P206   Hospitalized         KA-P169   \n",
       "6834         KA              KA-P207   Hospitalized         KA-P206   \n",
       "\n",
       "     nationality transmission_type status_updated_on                notes  \n",
       "6833         NaN               NaN               NaN   Brother of KA-P169  \n",
       "6834         NaN               NaN               NaN  Daughter of KA-P206  "
      ]
     },
     "execution_count": 291,
     "metadata": {},
     "output_type": "execute_result"
    }
   ],
   "source": [
    "dfr.tail(2)"
   ]
  },
  {
   "cell_type": "code",
   "execution_count": null,
   "metadata": {},
   "outputs": [],
   "source": []
  },
  {
   "cell_type": "code",
   "execution_count": null,
   "metadata": {},
   "outputs": [],
   "source": [
    "\"transform\": {\n",
    "    \"scale\": [\n",
    "      0.0006973698971092601,\n",
    "0.0006462543480830687\n",
    "    ],\n",
    "    \"translate\": [\n",
    "      76.20310065122152,\n",
    "      8.107847033856163\n",
    "    ]\n",
    "  },"
   ]
  },
  {
   "cell_type": "code",
   "execution_count": 274,
   "metadata": {
    "scrolled": true
   },
   "outputs": [
    {
     "name": "stdout",
     "output_type": "stream",
     "text": [
      "odisha\n",
      "telangana\n",
      "meghalaya\n",
      "karnataka\n",
      "haryana\n",
      "bihar\n",
      "Kaimur Bhabhua data not found\n",
      "Aurangabad more than one data found\n",
      "andhrapradesh\n",
      "jammukashmir\n",
      "westbengal\n",
      "Uttar Dinajpur data not found\n",
      "kerala\n",
      "chhattisgarh\n",
      "Raigarh more than one data found\n",
      "Bilaspur more than one data found\n",
      "Balrampur more than one data found\n",
      "andamannicobarislands\n",
      "jharkhand\n",
      "Saraikela-kharsawan data not found\n",
      "ladakh\n",
      "uttarpradesh\n",
      "Balrampur more than one data found\n",
      "Hamirpur more than one data found\n",
      "Pratapgarh more than one data found\n",
      "mizoram\n",
      "lakshadweep\n",
      "nagaland\n",
      "tamilnadu\n",
      "Thoothukudi data not found\n",
      "dadranagarhaveli\n",
      "delhi\n",
      "puducherry\n",
      "madhyapradesh\n",
      "arunachalpradesh\n",
      "uttarakhand\n",
      "manipur\n",
      "tripura\n",
      "gujarat\n",
      "goa\n",
      "assam\n",
      "maharashtra\n",
      "Aurangabad more than one data found\n",
      "Raigarh more than one data found\n",
      "punjab\n",
      "sikkim\n",
      "North  District data not found\n",
      "rajasthan\n",
      "Jalor data not found\n",
      "Pratapgarh more than one data found\n",
      "chandigarh\n",
      "himachalpradesh\n",
      "Hamirpur more than one data found\n",
      "Bilaspur more than one data found\n"
     ]
    }
   ],
   "source": [
    "state_name_list = []\n",
    "\n",
    "for fp in os.listdir(\"../data/state_geojson_raw/\"):\n",
    "    if not fp.startswith(\".\") and fp.endswith(\".json\"):\n",
    "        state_name = fp.split(\".\")[0]\n",
    "        state_name_list.append(state_name)\n",
    "        print(state_name)\n",
    "\n",
    "        with open(\"../data/state_geojson_raw/\"+fp) as topodata:\n",
    "            raw_data = json.load(topodata)\n",
    "\n",
    "        data = raw_data\n",
    "        district_list = data[\"objects\"][state_name+\"_district\"][\"geometries\"]\n",
    "        \n",
    "        if state_name==\"tamilnadu\":\n",
    "            data[\"transform\"][\"scale\"] = [0.0006973698971092601, 0.0006462543480830687]\n",
    "            data[\"transform\"][\"translate\"] = [76.20310065122152, 8.107847033856163]\n",
    "        \n",
    "        for i in range(len(district_list)):\n",
    "            district_name = data[\"objects\"][state_name+\"_district\"][\"geometries\"][i][\"properties\"][\"district\"]\n",
    "            df_district = df[df[\"district\"]==district_name].copy()\n",
    "            \n",
    "            if len(df_district)==1:\n",
    "                data[\"objects\"][state_name+\"_district\"][\"geometries\"][i][\"properties\"][\"confirmed\"] = str(df_district[\"confirmed\"].values[0])\n",
    "                data[\"objects\"][state_name+\"_district\"][\"geometries\"][i][\"properties\"][\"recovered\"] = str(df_district[\"recovered\"].values[0])\n",
    "                data[\"objects\"][state_name+\"_district\"][\"geometries\"][i][\"properties\"][\"deaths\"] = str(df_district[\"deaths\"].values[0])\n",
    "                data[\"objects\"][state_name+\"_district\"][\"geometries\"][i][\"properties\"][\"active\"] = str(df_district[\"active\"].values[0])\n",
    "                \n",
    "                data[\"objects\"][state_name+\"_district\"][\"geometries\"][i][\"properties\"][\"confirmed_colorscale\"] = str(df_district[\"confirmed\"].values[0]/df[\"confirmed\"].max())\n",
    "                data[\"objects\"][state_name+\"_district\"][\"geometries\"][i][\"properties\"][\"recovered_colorscale\"] = str(df_district[\"recovered\"].values[0]/df[\"recovered\"].max())\n",
    "                data[\"objects\"][state_name+\"_district\"][\"geometries\"][i][\"properties\"][\"deaths_colorscale\"] = str(df_district[\"deaths\"].values[0]/df[\"deaths\"].max())\n",
    "                data[\"objects\"][state_name+\"_district\"][\"geometries\"][i][\"properties\"][\"active_colorscale\"] = str(df_district[\"active\"].values[0]/df[\"active\"].max())\n",
    "\n",
    "            elif len(df_district)==0:\n",
    "                print(district_name + \" data not found\")\n",
    "            elif len(df_district)>1:\n",
    "                print(district_name + \" more than one data found\")\n",
    "            else:\n",
    "                print(district_name + \" other error\")\n",
    "\n",
    "        with open('../data/state_geojson_data/'+state_name+'.json', 'w') as outfile:\n",
    "            json.dump(data, outfile)"
   ]
  },
  {
   "cell_type": "code",
   "execution_count": null,
   "metadata": {},
   "outputs": [],
   "source": []
  },
  {
   "cell_type": "code",
   "execution_count": null,
   "metadata": {},
   "outputs": [],
   "source": []
  },
  {
   "cell_type": "code",
   "execution_count": null,
   "metadata": {},
   "outputs": [],
   "source": []
  },
  {
   "cell_type": "code",
   "execution_count": 275,
   "metadata": {},
   "outputs": [
    {
     "data": {
      "text/plain": [
       "count    726.000000\n",
       "mean       7.443526\n",
       "std       37.620779\n",
       "min        0.000000\n",
       "25%        0.000000\n",
       "50%        0.000000\n",
       "75%        4.000000\n",
       "max      876.000000\n",
       "Name: confirmed, dtype: float64"
      ]
     },
     "execution_count": 275,
     "metadata": {},
     "output_type": "execute_result"
    }
   ],
   "source": [
    "df[\"confirmed\"].describe()"
   ]
  },
  {
   "cell_type": "code",
   "execution_count": 277,
   "metadata": {},
   "outputs": [
    {
     "data": {
      "text/html": [
       "<div>\n",
       "<style scoped>\n",
       "    .dataframe tbody tr th:only-of-type {\n",
       "        vertical-align: middle;\n",
       "    }\n",
       "\n",
       "    .dataframe tbody tr th {\n",
       "        vertical-align: top;\n",
       "    }\n",
       "\n",
       "    .dataframe thead th {\n",
       "        text-align: right;\n",
       "    }\n",
       "</style>\n",
       "<table border=\"1\" class=\"dataframe\">\n",
       "  <thead>\n",
       "    <tr style=\"text-align: right;\">\n",
       "      <th></th>\n",
       "      <th>district</th>\n",
       "      <th>state</th>\n",
       "      <th>confirmed</th>\n",
       "      <th>recovered</th>\n",
       "      <th>deaths</th>\n",
       "      <th>active</th>\n",
       "    </tr>\n",
       "  </thead>\n",
       "  <tbody>\n",
       "    <tr>\n",
       "      <th>156</th>\n",
       "      <td>Ahmadabad</td>\n",
       "      <td>Gujarat</td>\n",
       "      <td>153</td>\n",
       "      <td>3</td>\n",
       "      <td>6</td>\n",
       "      <td>144</td>\n",
       "    </tr>\n",
       "    <tr>\n",
       "      <th>303</th>\n",
       "      <td>Kasaragod</td>\n",
       "      <td>Kerala</td>\n",
       "      <td>161</td>\n",
       "      <td>5</td>\n",
       "      <td>0</td>\n",
       "      <td>156</td>\n",
       "    </tr>\n",
       "    <tr>\n",
       "      <th>338</th>\n",
       "      <td>Indore</td>\n",
       "      <td>Madhya Pradesh</td>\n",
       "      <td>173</td>\n",
       "      <td>0</td>\n",
       "      <td>15</td>\n",
       "      <td>158</td>\n",
       "    </tr>\n",
       "    <tr>\n",
       "      <th>384</th>\n",
       "      <td>Mumbai</td>\n",
       "      <td>Maharashtra</td>\n",
       "      <td>876</td>\n",
       "      <td>14</td>\n",
       "      <td>45</td>\n",
       "      <td>817</td>\n",
       "    </tr>\n",
       "    <tr>\n",
       "      <th>393</th>\n",
       "      <td>Pune</td>\n",
       "      <td>Maharashtra</td>\n",
       "      <td>212</td>\n",
       "      <td>16</td>\n",
       "      <td>14</td>\n",
       "      <td>182</td>\n",
       "    </tr>\n",
       "    <tr>\n",
       "      <th>522</th>\n",
       "      <td>Jaipur</td>\n",
       "      <td>Rajasthan</td>\n",
       "      <td>168</td>\n",
       "      <td>0</td>\n",
       "      <td>0</td>\n",
       "      <td>168</td>\n",
       "    </tr>\n",
       "    <tr>\n",
       "      <th>544</th>\n",
       "      <td>Chennai</td>\n",
       "      <td>Sikkim</td>\n",
       "      <td>166</td>\n",
       "      <td>0</td>\n",
       "      <td>4</td>\n",
       "      <td>162</td>\n",
       "    </tr>\n",
       "    <tr>\n",
       "      <th>577</th>\n",
       "      <td>Hyderabad</td>\n",
       "      <td>Tamil Nadu</td>\n",
       "      <td>104</td>\n",
       "      <td>0</td>\n",
       "      <td>4</td>\n",
       "      <td>100</td>\n",
       "    </tr>\n",
       "  </tbody>\n",
       "</table>\n",
       "</div>"
      ],
      "text/plain": [
       "      district           state  confirmed  recovered  deaths  active\n",
       "156  Ahmadabad         Gujarat        153          3       6     144\n",
       "303  Kasaragod          Kerala        161          5       0     156\n",
       "338     Indore  Madhya Pradesh        173          0      15     158\n",
       "384     Mumbai     Maharashtra        876         14      45     817\n",
       "393       Pune     Maharashtra        212         16      14     182\n",
       "522     Jaipur       Rajasthan        168          0       0     168\n",
       "544    Chennai          Sikkim        166          0       4     162\n",
       "577  Hyderabad      Tamil Nadu        104          0       4     100"
      ]
     },
     "execution_count": 277,
     "metadata": {},
     "output_type": "execute_result"
    }
   ],
   "source": [
    "df[df[\"confirmed\"]>100]"
   ]
  },
  {
   "cell_type": "code",
   "execution_count": 279,
   "metadata": {},
   "outputs": [
    {
     "data": {
      "text/html": [
       "<div>\n",
       "<style scoped>\n",
       "    .dataframe tbody tr th:only-of-type {\n",
       "        vertical-align: middle;\n",
       "    }\n",
       "\n",
       "    .dataframe tbody tr th {\n",
       "        vertical-align: top;\n",
       "    }\n",
       "\n",
       "    .dataframe thead th {\n",
       "        text-align: right;\n",
       "    }\n",
       "</style>\n",
       "<table border=\"1\" class=\"dataframe\">\n",
       "  <thead>\n",
       "    <tr style=\"text-align: right;\">\n",
       "      <th></th>\n",
       "      <th>district</th>\n",
       "      <th>state</th>\n",
       "      <th>confirmed</th>\n",
       "      <th>recovered</th>\n",
       "      <th>deaths</th>\n",
       "      <th>active</th>\n",
       "    </tr>\n",
       "  </thead>\n",
       "  <tbody>\n",
       "    <tr>\n",
       "      <th>544</th>\n",
       "      <td>Chennai</td>\n",
       "      <td>Sikkim</td>\n",
       "      <td>166</td>\n",
       "      <td>0</td>\n",
       "      <td>4</td>\n",
       "      <td>162</td>\n",
       "    </tr>\n",
       "  </tbody>\n",
       "</table>\n",
       "</div>"
      ],
      "text/plain": [
       "    district   state  confirmed  recovered  deaths  active\n",
       "544  Chennai  Sikkim        166          0       4     162"
      ]
     },
     "execution_count": 279,
     "metadata": {},
     "output_type": "execute_result"
    }
   ],
   "source": [
    "df[df[\"district\"]==\"Chennai\"]"
   ]
  },
  {
   "cell_type": "code",
   "execution_count": null,
   "metadata": {},
   "outputs": [],
   "source": []
  },
  {
   "cell_type": "code",
   "execution_count": null,
   "metadata": {},
   "outputs": [],
   "source": []
  },
  {
   "cell_type": "code",
   "execution_count": 272,
   "metadata": {},
   "outputs": [
    {
     "data": {
      "text/plain": [
       "{'scale': [0.0003775508127833683, 0.0003244601600360647],\n",
       " 'translate': [75.594723, 30.377701000000002]}"
      ]
     },
     "execution_count": 272,
     "metadata": {},
     "output_type": "execute_result"
    }
   ],
   "source": [
    "data[\"transform\"]"
   ]
  },
  {
   "cell_type": "code",
   "execution_count": 256,
   "metadata": {},
   "outputs": [
    {
     "data": {
      "text/html": [
       "<div>\n",
       "<style scoped>\n",
       "    .dataframe tbody tr th:only-of-type {\n",
       "        vertical-align: middle;\n",
       "    }\n",
       "\n",
       "    .dataframe tbody tr th {\n",
       "        vertical-align: top;\n",
       "    }\n",
       "\n",
       "    .dataframe thead th {\n",
       "        text-align: right;\n",
       "    }\n",
       "</style>\n",
       "<table border=\"1\" class=\"dataframe\">\n",
       "  <thead>\n",
       "    <tr style=\"text-align: right;\">\n",
       "      <th></th>\n",
       "      <th>district</th>\n",
       "      <th>state</th>\n",
       "      <th>confirmed</th>\n",
       "      <th>recovered</th>\n",
       "      <th>deaths</th>\n",
       "      <th>active</th>\n",
       "    </tr>\n",
       "  </thead>\n",
       "  <tbody>\n",
       "    <tr>\n",
       "      <th>211</th>\n",
       "      <td>Bilaspur</td>\n",
       "      <td>Himachal Pradesh</td>\n",
       "      <td>1</td>\n",
       "      <td>0</td>\n",
       "      <td>0</td>\n",
       "      <td>1</td>\n",
       "    </tr>\n",
       "    <tr>\n",
       "      <th>212</th>\n",
       "      <td>Chamba</td>\n",
       "      <td>Himachal Pradesh</td>\n",
       "      <td>0</td>\n",
       "      <td>0</td>\n",
       "      <td>0</td>\n",
       "      <td>0</td>\n",
       "    </tr>\n",
       "    <tr>\n",
       "      <th>213</th>\n",
       "      <td>Hamirpur</td>\n",
       "      <td>Himachal Pradesh</td>\n",
       "      <td>0</td>\n",
       "      <td>0</td>\n",
       "      <td>0</td>\n",
       "      <td>0</td>\n",
       "    </tr>\n",
       "    <tr>\n",
       "      <th>214</th>\n",
       "      <td>Kangra</td>\n",
       "      <td>Himachal Pradesh</td>\n",
       "      <td>3</td>\n",
       "      <td>0</td>\n",
       "      <td>0</td>\n",
       "      <td>3</td>\n",
       "    </tr>\n",
       "    <tr>\n",
       "      <th>215</th>\n",
       "      <td>Kinnaur</td>\n",
       "      <td>Himachal Pradesh</td>\n",
       "      <td>0</td>\n",
       "      <td>0</td>\n",
       "      <td>0</td>\n",
       "      <td>0</td>\n",
       "    </tr>\n",
       "    <tr>\n",
       "      <th>216</th>\n",
       "      <td>Kullu</td>\n",
       "      <td>Himachal Pradesh</td>\n",
       "      <td>0</td>\n",
       "      <td>0</td>\n",
       "      <td>0</td>\n",
       "      <td>0</td>\n",
       "    </tr>\n",
       "    <tr>\n",
       "      <th>217</th>\n",
       "      <td>Lahul and Spiti</td>\n",
       "      <td>Himachal Pradesh</td>\n",
       "      <td>0</td>\n",
       "      <td>0</td>\n",
       "      <td>0</td>\n",
       "      <td>0</td>\n",
       "    </tr>\n",
       "    <tr>\n",
       "      <th>218</th>\n",
       "      <td>Mandi</td>\n",
       "      <td>Himachal Pradesh</td>\n",
       "      <td>0</td>\n",
       "      <td>0</td>\n",
       "      <td>0</td>\n",
       "      <td>0</td>\n",
       "    </tr>\n",
       "    <tr>\n",
       "      <th>219</th>\n",
       "      <td>Shimla</td>\n",
       "      <td>Himachal Pradesh</td>\n",
       "      <td>0</td>\n",
       "      <td>0</td>\n",
       "      <td>0</td>\n",
       "      <td>0</td>\n",
       "    </tr>\n",
       "    <tr>\n",
       "      <th>220</th>\n",
       "      <td>Sirmaur</td>\n",
       "      <td>Himachal Pradesh</td>\n",
       "      <td>1</td>\n",
       "      <td>0</td>\n",
       "      <td>0</td>\n",
       "      <td>1</td>\n",
       "    </tr>\n",
       "    <tr>\n",
       "      <th>221</th>\n",
       "      <td>Solan</td>\n",
       "      <td>Himachal Pradesh</td>\n",
       "      <td>0</td>\n",
       "      <td>0</td>\n",
       "      <td>1</td>\n",
       "      <td>-1</td>\n",
       "    </tr>\n",
       "    <tr>\n",
       "      <th>222</th>\n",
       "      <td>Una</td>\n",
       "      <td>Himachal Pradesh</td>\n",
       "      <td>12</td>\n",
       "      <td>0</td>\n",
       "      <td>0</td>\n",
       "      <td>12</td>\n",
       "    </tr>\n",
       "  </tbody>\n",
       "</table>\n",
       "</div>"
      ],
      "text/plain": [
       "            district             state  confirmed  recovered  deaths  active\n",
       "211         Bilaspur  Himachal Pradesh          1          0       0       1\n",
       "212           Chamba  Himachal Pradesh          0          0       0       0\n",
       "213         Hamirpur  Himachal Pradesh          0          0       0       0\n",
       "214           Kangra  Himachal Pradesh          3          0       0       3\n",
       "215          Kinnaur  Himachal Pradesh          0          0       0       0\n",
       "216            Kullu  Himachal Pradesh          0          0       0       0\n",
       "217  Lahul and Spiti  Himachal Pradesh          0          0       0       0\n",
       "218            Mandi  Himachal Pradesh          0          0       0       0\n",
       "219           Shimla  Himachal Pradesh          0          0       0       0\n",
       "220          Sirmaur  Himachal Pradesh          1          0       0       1\n",
       "221            Solan  Himachal Pradesh          0          0       1      -1\n",
       "222              Una  Himachal Pradesh         12          0       0      12"
      ]
     },
     "execution_count": 256,
     "metadata": {},
     "output_type": "execute_result"
    }
   ],
   "source": [
    "df[df[\"state\"]==\"Himachal Pradesh\"]"
   ]
  },
  {
   "cell_type": "code",
   "execution_count": 255,
   "metadata": {},
   "outputs": [
    {
     "data": {
      "text/plain": [
       "array(['Andaman and Nicobar Islands', 'Andhra Pradesh',\n",
       "       'Arunachal Pradesh', 'Assam', 'Bihar', 'Chandigarh',\n",
       "       'Chhattisgarh', 'Dadra and Nagar Haveli', 'Daman And Diu', 'Delhi',\n",
       "       'Goa', 'Gujarat', 'Haryana', 'Himachal Pradesh',\n",
       "       'Jammu and Kashmir', 'Jharkhand', 'Karnataka', 'Kerala', 'Ladakh',\n",
       "       'Lakshadweep', 'Madhya Pradesh', 'Maharashtra', 'Manipur',\n",
       "       'Meghalaya', 'Mizoram', 'Nagaland', 'Odisha', 'Puducherry',\n",
       "       'Punjab', 'Rajasthan', 'Sikkim', 'Tamil Nadu', 'Telangana',\n",
       "       'Tripura', 'Uttar Pradesh', 'Uttarakhand', 'West Bengal'],\n",
       "      dtype=object)"
      ]
     },
     "execution_count": 255,
     "metadata": {},
     "output_type": "execute_result"
    }
   ],
   "source": [
    "df[\"state\"].unique()"
   ]
  },
  {
   "cell_type": "code",
   "execution_count": 270,
   "metadata": {},
   "outputs": [
    {
     "name": "stdout",
     "output_type": "stream",
     "text": [
      "0.0006973698971092601\n",
      "0.0006462543480830687\n"
     ]
    }
   ],
   "source": [
    "a = 0.265\n",
    "print(0.0026315845173934343 * a)\n",
    "print(0.0024386956531436553 * a)"
   ]
  },
  {
   "cell_type": "code",
   "execution_count": null,
   "metadata": {},
   "outputs": [],
   "source": [
    "\"\"\"\n",
    "Scale: 0.265 of original values\n",
    "Tamil nadu adjusted final values:\n",
    "    \"transform\": {\n",
    "    \"scale\": [\n",
    "      0.0006973698971092601,\n",
    "0.0006462543480830687\n",
    "    ],\n",
    "    \"translate\": [\n",
    "      76.20310065122152,\n",
    "      8.107847033856163\n",
    "    ]\n",
    "  },\n",
    "\"\"\""
   ]
  }
 ],
 "metadata": {
  "kernelspec": {
   "display_name": "Python 3",
   "language": "python",
   "name": "python3"
  },
  "language_info": {
   "codemirror_mode": {
    "name": "ipython",
    "version": 3
   },
   "file_extension": ".py",
   "mimetype": "text/x-python",
   "name": "python",
   "nbconvert_exporter": "python",
   "pygments_lexer": "ipython3",
   "version": "3.6.5"
  }
 },
 "nbformat": 4,
 "nbformat_minor": 2
}
