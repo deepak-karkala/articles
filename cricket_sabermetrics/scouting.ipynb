{
 "cells": [
  {
   "cell_type": "code",
   "execution_count": 1,
   "metadata": {
    "collapsed": true
   },
   "outputs": [],
   "source": [
    "import numpy as np\n",
    "import pandas as pd\n",
    "import matplotlib.pyplot as plt\n",
    "%matplotlib inline \n",
    "import seaborn as sns"
   ]
  },
  {
   "cell_type": "code",
   "execution_count": 2,
   "metadata": {
    "collapsed": true
   },
   "outputs": [],
   "source": [
    "import requests\n",
    "from bs4 import BeautifulSoup"
   ]
  },
  {
   "cell_type": "code",
   "execution_count": 263,
   "metadata": {},
   "outputs": [],
   "source": [
    "res = requests.get(\"http://stats.espncricinfo.com/ci/engine/records/team/match_results.html?id=12193;type=tournament\")\n",
    "soup = BeautifulSoup(res.content,'lxml')"
   ]
  },
  {
   "cell_type": "code",
   "execution_count": 281,
   "metadata": {},
   "outputs": [
    {
     "data": {
      "text/plain": [
       "'/ci/engine/match/1130662.html'"
      ]
     },
     "execution_count": 281,
     "metadata": {},
     "output_type": "execute_result"
    }
   ],
   "source": [
    "soup.find_all('table')[0].find_all('tbody')[0].find_all('tr')[1].find_all('td')[6].find_all('a')[0][\"href\"]"
   ]
  },
  {
   "cell_type": "code",
   "execution_count": 300,
   "metadata": {},
   "outputs": [
    {
     "data": {
      "text/plain": [
       "['',\n",
       " 'Gujarat',\n",
       " 'Maharashtra',\n",
       " 'Maharashtra',\n",
       " '4 wickets',\n",
       " 'Rajkot',\n",
       " 'Jan 7, 2018',\n",
       " 'T20',\n",
       " '']"
      ]
     },
     "execution_count": 300,
     "metadata": {},
     "output_type": "execute_result"
    }
   ],
   "source": [
    "soup1.find_all('table')[0].find_all('tbody')[0].find_all('tr')[1].text.split(\"\\n\")"
   ]
  },
  {
   "cell_type": "markdown",
   "metadata": {},
   "source": [
    "###  Syed Mushtaq Ali Trophy "
   ]
  },
  {
   "cell_type": "code",
   "execution_count": 332,
   "metadata": {
    "scrolled": false
   },
   "outputs": [
    {
     "name": "stdout",
     "output_type": "stream",
     "text": [
      "7\n",
      "17\n",
      "37\n",
      "47\n",
      "49\n",
      "52\n",
      "56\n"
     ]
    }
   ],
   "source": [
    "dfp = pd.DataFrame() #columns={\"runs_scored\",\"balls_faced\"}, index=batsman)\n",
    "\n",
    "res = requests.get(\"http://stats.espncricinfo.com/ci/engine/records/team/match_results.html?id=12193;type=tournament\")\n",
    "soup1 = BeautifulSoup(res.content,'lxml')\n",
    "numMatches = 60 #len(soup1.find_all('table')[0].find_all('tbody')[0].find_all('tr'))\n",
    "\n",
    "for m in range(numMatches):\n",
    "    if m%10==0:\n",
    "        print(m)\n",
    "    tmp = soup1.find_all('table')[0].find_all('tbody')[0].find_all('tr')[m].text.split(\"\\n\")\n",
    "\n",
    "    mlink = soup1.find_all('table')[0].find_all('tbody')[0].find_all('tr')[m].find_all('td')[6].find_all('a')[0][\"href\"] \n",
    "    \n",
    "    res = requests.get(\"http://stats.espncricinfo.com\" + mlink)\n",
    "    soup = BeautifulSoup(res.content,'lxml')\n",
    "    \n",
    "    numBatsmen = len(soup.find_all('div')[4].find_all('div')[68].find_all('div',{\"class\":\"cell batsmen\"}))\n",
    "\n",
    "    batsman = []\n",
    "    for i in range(numBatsmen):\n",
    "        batsman.append(soup.find_all('div')[4].find_all('div')[68].find_all('div',{\"class\":\"cell batsmen\"})[i].text)\n",
    "\n",
    "    df = pd.DataFrame(columns={\"runs_scored\",\"balls_faced\"}, index=batsman)\n",
    "    for i in range(numBatsmen):\n",
    "        numRunsScored = soup.find_all('div')[4].find_all('div')[68].find_all('div',{\"class\":\"cell runs\"})[(i)*6+0].text\n",
    "        numBallsFaced = soup.find_all('div')[4].find_all('div')[68].find_all('div',{\"class\":\"cell runs\"})[(i)*6+2].text \n",
    "        df.loc[batsman[i]] = pd.Series({\"runs_scored\":numRunsScored, \"balls_faced\":numBallsFaced})\n",
    "\n",
    "    df = df.reset_index()\n",
    "    df.rename(columns={\"index\":\"player\"}, inplace=True)\n",
    "\n",
    "    df[\"season\"] = 2018\n",
    "    df[\"venue\"] = tmp[5]\n",
    "    df[\"date\"] = tmp[6]\n",
    "    df[\"league\"] = \"sma\"\n",
    "    dfp = dfp.append(df)\n",
    "\n",
    "dfp = dfp[dfp[\"player\"]!=\"BATSMEN\"]\n",
    "dfp1 = dfp.copy()"
   ]
  },
  {
   "cell_type": "code",
   "execution_count": 333,
   "metadata": {},
   "outputs": [
    {
     "data": {
      "text/html": [
       "<div>\n",
       "<style>\n",
       "    .dataframe thead tr:only-child th {\n",
       "        text-align: right;\n",
       "    }\n",
       "\n",
       "    .dataframe thead th {\n",
       "        text-align: left;\n",
       "    }\n",
       "\n",
       "    .dataframe tbody tr th {\n",
       "        vertical-align: top;\n",
       "    }\n",
       "</style>\n",
       "<table border=\"1\" class=\"dataframe\">\n",
       "  <thead>\n",
       "    <tr style=\"text-align: right;\">\n",
       "      <th></th>\n",
       "      <th>player</th>\n",
       "      <th>balls_faced</th>\n",
       "      <th>runs_scored</th>\n",
       "      <th>season</th>\n",
       "      <th>venue</th>\n",
       "      <th>date</th>\n",
       "    </tr>\n",
       "  </thead>\n",
       "  <tbody>\n",
       "    <tr>\n",
       "      <th>1</th>\n",
       "      <td>KH Devdhar</td>\n",
       "      <td>24</td>\n",
       "      <td>38</td>\n",
       "      <td>2018</td>\n",
       "      <td>Rajkot</td>\n",
       "      <td>Jan 7, 2018</td>\n",
       "    </tr>\n",
       "    <tr>\n",
       "      <th>2</th>\n",
       "      <td>UM Patel †</td>\n",
       "      <td>28</td>\n",
       "      <td>50</td>\n",
       "      <td>2018</td>\n",
       "      <td>Rajkot</td>\n",
       "      <td>Jan 7, 2018</td>\n",
       "    </tr>\n",
       "    <tr>\n",
       "      <th>3</th>\n",
       "      <td>DJ Hooda (c)</td>\n",
       "      <td>39</td>\n",
       "      <td>66</td>\n",
       "      <td>2018</td>\n",
       "      <td>Rajkot</td>\n",
       "      <td>Jan 7, 2018</td>\n",
       "    </tr>\n",
       "    <tr>\n",
       "      <th>4</th>\n",
       "      <td>KH Pandya</td>\n",
       "      <td>26</td>\n",
       "      <td>44</td>\n",
       "      <td>2018</td>\n",
       "      <td>Rajkot</td>\n",
       "      <td>Jan 7, 2018</td>\n",
       "    </tr>\n",
       "    <tr>\n",
       "      <th>5</th>\n",
       "      <td>Swapnil Singh</td>\n",
       "      <td>4</td>\n",
       "      <td>4</td>\n",
       "      <td>2018</td>\n",
       "      <td>Rajkot</td>\n",
       "      <td>Jan 7, 2018</td>\n",
       "    </tr>\n",
       "  </tbody>\n",
       "</table>\n",
       "</div>"
      ],
      "text/plain": [
       "          player balls_faced runs_scored  season   venue         date\n",
       "1     KH Devdhar          24          38    2018  Rajkot  Jan 7, 2018\n",
       "2     UM Patel †          28          50    2018  Rajkot  Jan 7, 2018\n",
       "3   DJ Hooda (c)          39          66    2018  Rajkot  Jan 7, 2018\n",
       "4      KH Pandya          26          44    2018  Rajkot  Jan 7, 2018\n",
       "5  Swapnil Singh           4           4    2018  Rajkot  Jan 7, 2018"
      ]
     },
     "execution_count": 333,
     "metadata": {},
     "output_type": "execute_result"
    }
   ],
   "source": [
    "dfp.head()"
   ]
  },
  {
   "cell_type": "code",
   "execution_count": 334,
   "metadata": {
    "collapsed": true
   },
   "outputs": [],
   "source": []
  },
  {
   "cell_type": "markdown",
   "metadata": {},
   "source": [
    "### KARNATAKA PREMIER LEAGUE, 2017"
   ]
  },
  {
   "cell_type": "code",
   "execution_count": 398,
   "metadata": {},
   "outputs": [
    {
     "name": "stdout",
     "output_type": "stream",
     "text": [
      "0\n",
      "10\n",
      "20\n"
     ]
    }
   ],
   "source": [
    "dfp = pd.DataFrame() #columns={\"runs_scored\",\"balls_faced\"}, index=batsman)\n",
    "\n",
    "res = requests.get(\"http://stats.espncricinfo.com/ci/engine/records/team/match_results.html?id=11997;type=tournament\")\n",
    "soup1 = BeautifulSoup(res.content,'lxml')\n",
    "numMatches = len(soup1.find_all('table')[0].find_all('tbody')[0].find_all('tr'))\n",
    "\n",
    "for m in range(numMatches):\n",
    "    \n",
    "    if m%10==0:\n",
    "        print(m)\n",
    "    tmp = soup1.find_all('table')[0].find_all('tbody')[0].find_all('tr')[m].text.split(\"\\n\")\n",
    "\n",
    "    mlink = soup1.find_all('table')[0].find_all('tbody')[0].find_all('tr')[m].find_all('td')[6].find_all('a')[0][\"href\"] \n",
    "\n",
    "    res = requests.get(\"http://stats.espncricinfo.com\" + mlink)\n",
    "    soup = BeautifulSoup(res.content,'lxml')\n",
    "\n",
    "    if len(soup.find_all('div')[4].find_all('div'))>=78:\n",
    "        numBatsmen = len(soup.find_all('div')[4].find_all('div')[78].find_all('div',{\"class\":\"cell batsmen\"}))\n",
    "\n",
    "        batsman = []\n",
    "        for i in range(numBatsmen):\n",
    "            batsman.append(soup.find_all('div')[4].find_all('div')[78].find_all('div',{\"class\":\"cell batsmen\"})[i].text)\n",
    "\n",
    "        df = pd.DataFrame(columns={\"runs_scored\",\"balls_faced\"}, index=batsman)\n",
    "        for i in range(numBatsmen):\n",
    "            numRunsScored = soup.find_all('div')[4].find_all('div')[78].find_all('div',{\"class\":\"cell runs\"})[(i)*5+0].text\n",
    "            numBallsFaced = soup.find_all('div')[4].find_all('div')[78].find_all('div',{\"class\":\"cell runs\"})[(i)*5+1].text \n",
    "            df.loc[batsman[i]] = pd.Series({\"runs_scored\":numRunsScored, \"balls_faced\":numBallsFaced})\n",
    "\n",
    "        df = df.reset_index()\n",
    "        df.rename(columns={\"index\":\"player\"}, inplace=True)\n",
    "\n",
    "        df[\"season\"] = 2018\n",
    "        df[\"venue\"] = tmp[5]\n",
    "        df[\"date\"] = tmp[6]\n",
    "        df[\"league\"] = \"kpl\"\n",
    "        dfp = dfp.append(df)\n",
    "\n",
    "dfp = dfp[dfp[\"player\"]!=\"BATSMEN\"]\n",
    "dfp2 = dfp.copy()"
   ]
  },
  {
   "cell_type": "code",
   "execution_count": 401,
   "metadata": {},
   "outputs": [
    {
     "data": {
      "text/html": [
       "<div>\n",
       "<style>\n",
       "    .dataframe thead tr:only-child th {\n",
       "        text-align: right;\n",
       "    }\n",
       "\n",
       "    .dataframe thead th {\n",
       "        text-align: left;\n",
       "    }\n",
       "\n",
       "    .dataframe tbody tr th {\n",
       "        vertical-align: top;\n",
       "    }\n",
       "</style>\n",
       "<table border=\"1\" class=\"dataframe\">\n",
       "  <thead>\n",
       "    <tr style=\"text-align: right;\">\n",
       "      <th></th>\n",
       "      <th>player</th>\n",
       "      <th>balls_faced</th>\n",
       "      <th>runs_scored</th>\n",
       "      <th>season</th>\n",
       "      <th>venue</th>\n",
       "      <th>date</th>\n",
       "      <th>league</th>\n",
       "    </tr>\n",
       "  </thead>\n",
       "  <tbody>\n",
       "    <tr>\n",
       "      <th>1</th>\n",
       "      <td>BR Sharath †</td>\n",
       "      <td>3</td>\n",
       "      <td>1</td>\n",
       "      <td>2018</td>\n",
       "      <td>Bengaluru</td>\n",
       "      <td>Sep 1, 2017</td>\n",
       "      <td>kpl</td>\n",
       "    </tr>\n",
       "    <tr>\n",
       "      <th>2</th>\n",
       "      <td>M Kaunain Abbas</td>\n",
       "      <td>13</td>\n",
       "      <td>15</td>\n",
       "      <td>2018</td>\n",
       "      <td>Bengaluru</td>\n",
       "      <td>Sep 1, 2017</td>\n",
       "      <td>kpl</td>\n",
       "    </tr>\n",
       "    <tr>\n",
       "      <th>3</th>\n",
       "      <td>K Gowtham</td>\n",
       "      <td>11</td>\n",
       "      <td>13</td>\n",
       "      <td>2018</td>\n",
       "      <td>Bengaluru</td>\n",
       "      <td>Sep 1, 2017</td>\n",
       "      <td>kpl</td>\n",
       "    </tr>\n",
       "    <tr>\n",
       "      <th>4</th>\n",
       "      <td>KN Bharath</td>\n",
       "      <td>20</td>\n",
       "      <td>20</td>\n",
       "      <td>2018</td>\n",
       "      <td>Bengaluru</td>\n",
       "      <td>Sep 1, 2017</td>\n",
       "      <td>kpl</td>\n",
       "    </tr>\n",
       "    <tr>\n",
       "      <th>5</th>\n",
       "      <td>STR Binny</td>\n",
       "      <td>25</td>\n",
       "      <td>17</td>\n",
       "      <td>2018</td>\n",
       "      <td>Bengaluru</td>\n",
       "      <td>Sep 1, 2017</td>\n",
       "      <td>kpl</td>\n",
       "    </tr>\n",
       "  </tbody>\n",
       "</table>\n",
       "</div>"
      ],
      "text/plain": [
       "            player balls_faced runs_scored  season      venue         date  \\\n",
       "1     BR Sharath †           3           1    2018  Bengaluru  Sep 1, 2017   \n",
       "2  M Kaunain Abbas          13          15    2018  Bengaluru  Sep 1, 2017   \n",
       "3        K Gowtham          11          13    2018  Bengaluru  Sep 1, 2017   \n",
       "4       KN Bharath          20          20    2018  Bengaluru  Sep 1, 2017   \n",
       "5        STR Binny          25          17    2018  Bengaluru  Sep 1, 2017   \n",
       "\n",
       "  league  \n",
       "1    kpl  \n",
       "2    kpl  \n",
       "3    kpl  \n",
       "4    kpl  \n",
       "5    kpl  "
      ]
     },
     "execution_count": 401,
     "metadata": {},
     "output_type": "execute_result"
    }
   ],
   "source": [
    "dfp2.head()"
   ]
  },
  {
   "cell_type": "code",
   "execution_count": null,
   "metadata": {
    "collapsed": true
   },
   "outputs": [],
   "source": []
  },
  {
   "cell_type": "markdown",
   "metadata": {},
   "source": [
    "### TAMIL NADU PREMIER LEAGUE, 2017"
   ]
  },
  {
   "cell_type": "code",
   "execution_count": 404,
   "metadata": {},
   "outputs": [
    {
     "name": "stdout",
     "output_type": "stream",
     "text": [
      "0\n",
      "10\n",
      "20\n",
      "30\n"
     ]
    }
   ],
   "source": [
    "dfp = pd.DataFrame() #columns={\"runs_scored\",\"balls_faced\"}, index=batsman)\n",
    "\n",
    "res = requests.get(\"http://stats.espncricinfo.com/tamil-nadu-premier-league-2017/engine/records/team/match_results.html?id=11901;type=tournament\")\n",
    "soup1 = BeautifulSoup(res.content,'lxml')\n",
    "numMatches = len(soup1.find_all('table')[0].find_all('tbody')[0].find_all('tr'))\n",
    "\n",
    "for m in range(numMatches):\n",
    "    \n",
    "    if m%10==0:\n",
    "        print(m)\n",
    "    tmp = soup1.find_all('table')[0].find_all('tbody')[0].find_all('tr')[m].text.split(\"\\n\")\n",
    "\n",
    "    mlink = soup1.find_all('table')[0].find_all('tbody')[0].find_all('tr')[m].find_all('td')[6].find_all('a')[0][\"href\"] \n",
    "\n",
    "    res = requests.get(\"http://stats.espncricinfo.com\" + mlink)\n",
    "    soup = BeautifulSoup(res.content,'lxml')\n",
    "\n",
    "    if len(soup.find_all('div')[4].find_all('div'))>=78:\n",
    "        numBatsmen = len(soup.find_all('div')[4].find_all('div')[78].find_all('div',{\"class\":\"cell batsmen\"}))\n",
    "\n",
    "        batsman = []\n",
    "        for i in range(numBatsmen):\n",
    "            batsman.append(soup.find_all('div')[4].find_all('div')[78].find_all('div',{\"class\":\"cell batsmen\"})[i].text)\n",
    "\n",
    "        df = pd.DataFrame(columns={\"runs_scored\",\"balls_faced\"}, index=batsman)\n",
    "        for i in range(numBatsmen):\n",
    "            numRunsScored = soup.find_all('div')[4].find_all('div')[78].find_all('div',{\"class\":\"cell runs\"})[(i)*5+0].text\n",
    "            numBallsFaced = soup.find_all('div')[4].find_all('div')[78].find_all('div',{\"class\":\"cell runs\"})[(i)*5+1].text \n",
    "            df.loc[batsman[i]] = pd.Series({\"runs_scored\":numRunsScored, \"balls_faced\":numBallsFaced})\n",
    "\n",
    "        df = df.reset_index()\n",
    "        df.rename(columns={\"index\":\"player\"}, inplace=True)\n",
    "\n",
    "        df[\"season\"] = 2018\n",
    "        df[\"venue\"] = tmp[5]\n",
    "        df[\"date\"] = tmp[6]\n",
    "        df[\"league\"] = \"tnpl\"\n",
    "        dfp = dfp.append(df)\n",
    "\n",
    "dfp = dfp[dfp[\"player\"]!=\"BATSMEN\"]\n",
    "dfp3 = dfp.copy()"
   ]
  },
  {
   "cell_type": "code",
   "execution_count": 405,
   "metadata": {},
   "outputs": [
    {
     "data": {
      "text/html": [
       "<div>\n",
       "<style>\n",
       "    .dataframe thead tr:only-child th {\n",
       "        text-align: right;\n",
       "    }\n",
       "\n",
       "    .dataframe thead th {\n",
       "        text-align: left;\n",
       "    }\n",
       "\n",
       "    .dataframe tbody tr th {\n",
       "        vertical-align: top;\n",
       "    }\n",
       "</style>\n",
       "<table border=\"1\" class=\"dataframe\">\n",
       "  <thead>\n",
       "    <tr style=\"text-align: right;\">\n",
       "      <th></th>\n",
       "      <th>player</th>\n",
       "      <th>balls_faced</th>\n",
       "      <th>runs_scored</th>\n",
       "      <th>season</th>\n",
       "      <th>venue</th>\n",
       "      <th>date</th>\n",
       "      <th>league</th>\n",
       "    </tr>\n",
       "  </thead>\n",
       "  <tbody>\n",
       "    <tr>\n",
       "      <th>1</th>\n",
       "      <td>Washington Sundar</td>\n",
       "      <td>48</td>\n",
       "      <td>69</td>\n",
       "      <td>2018</td>\n",
       "      <td>Chennai</td>\n",
       "      <td>Jul 22, 2017</td>\n",
       "      <td>tnpl</td>\n",
       "    </tr>\n",
       "    <tr>\n",
       "      <th>2</th>\n",
       "      <td>KM Gandhi</td>\n",
       "      <td>33</td>\n",
       "      <td>46</td>\n",
       "      <td>2018</td>\n",
       "      <td>Chennai</td>\n",
       "      <td>Jul 22, 2017</td>\n",
       "      <td>tnpl</td>\n",
       "    </tr>\n",
       "    <tr>\n",
       "      <th>3</th>\n",
       "      <td>SP Nathan</td>\n",
       "      <td>19</td>\n",
       "      <td>20</td>\n",
       "      <td>2018</td>\n",
       "      <td>Chennai</td>\n",
       "      <td>Jul 22, 2017</td>\n",
       "      <td>tnpl</td>\n",
       "    </tr>\n",
       "    <tr>\n",
       "      <th>4</th>\n",
       "      <td>S Anand (c)</td>\n",
       "      <td>17</td>\n",
       "      <td>26</td>\n",
       "      <td>2018</td>\n",
       "      <td>Chennai</td>\n",
       "      <td>Jul 22, 2017</td>\n",
       "      <td>tnpl</td>\n",
       "    </tr>\n",
       "    <tr>\n",
       "      <th>5</th>\n",
       "      <td>Akash Sumra</td>\n",
       "      <td>3</td>\n",
       "      <td>1</td>\n",
       "      <td>2018</td>\n",
       "      <td>Chennai</td>\n",
       "      <td>Jul 22, 2017</td>\n",
       "      <td>tnpl</td>\n",
       "    </tr>\n",
       "  </tbody>\n",
       "</table>\n",
       "</div>"
      ],
      "text/plain": [
       "              player balls_faced runs_scored  season    venue          date  \\\n",
       "1  Washington Sundar          48          69    2018  Chennai  Jul 22, 2017   \n",
       "2          KM Gandhi          33          46    2018  Chennai  Jul 22, 2017   \n",
       "3          SP Nathan          19          20    2018  Chennai  Jul 22, 2017   \n",
       "4        S Anand (c)          17          26    2018  Chennai  Jul 22, 2017   \n",
       "5        Akash Sumra           3           1    2018  Chennai  Jul 22, 2017   \n",
       "\n",
       "  league  \n",
       "1   tnpl  \n",
       "2   tnpl  \n",
       "3   tnpl  \n",
       "4   tnpl  \n",
       "5   tnpl  "
      ]
     },
     "execution_count": 405,
     "metadata": {},
     "output_type": "execute_result"
    }
   ],
   "source": [
    "dfp3.head()"
   ]
  },
  {
   "cell_type": "code",
   "execution_count": null,
   "metadata": {
    "collapsed": true
   },
   "outputs": [],
   "source": []
  }
 ],
 "metadata": {
  "kernelspec": {
   "display_name": "Python 3",
   "language": "python",
   "name": "python3"
  },
  "language_info": {
   "codemirror_mode": {
    "name": "ipython",
    "version": 3
   },
   "file_extension": ".py",
   "mimetype": "text/x-python",
   "name": "python",
   "nbconvert_exporter": "python",
   "pygments_lexer": "ipython3",
   "version": "3.6.1"
  }
 },
 "nbformat": 4,
 "nbformat_minor": 2
}
