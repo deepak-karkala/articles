{
 "cells": [
  {
   "cell_type": "code",
   "execution_count": 23,
   "metadata": {},
   "outputs": [],
   "source": [
    "import numpy as np\n",
    "import pandas as pd\n",
    "import matplotlib.pyplot as plt"
   ]
  },
  {
   "cell_type": "code",
   "execution_count": 48,
   "metadata": {},
   "outputs": [],
   "source": [
    "W = 80;\n",
    "G = 0.2 * 100;\n",
    "Crr = 0.005;\n",
    "Cd = 0.63;\n",
    "A = 0.509;\n",
    "Rho = 1.22601;\n",
    "\n",
    "power = []\n",
    "velocity = []\n",
    "for vkh in range(0, 50):\n",
    "    v = vkh * 1000/3600\n",
    "    p = ((9.8067 * W * ( np.sin(np.arctan(G/100)) + Crr * np.cos(np.arctan(G/100)) )) + (0.5*Cd*A*Rho*v*v))*v;\n",
    "    #p = (0.5*Cd*A*Rho*v*v)*v;\n",
    "    power.append(p)\n",
    "    velocity.append(vkh)\n"
   ]
  },
  {
   "cell_type": "code",
   "execution_count": 49,
   "metadata": {},
   "outputs": [
    {
     "data": {
      "text/plain": [
       "[<matplotlib.lines.Line2D at 0x1162b7b38>]"
      ]
     },
     "execution_count": 49,
     "metadata": {},
     "output_type": "execute_result"
    },
    {
     "data": {
      "image/png": "[encoded data removed]",
      "text/plain": [
       "<Figure size 432x288 with 1 Axes>"
      ]
     },
     "metadata": {},
     "output_type": "display_data"
    }
   ],
   "source": [
    "plt.figure()\n",
    "plt.plot(velocity, power)"
   ]
  },
  {
   "cell_type": "code",
   "execution_count": 50,
   "metadata": {},
   "outputs": [
    {
     "data": {
      "text/plain": [
       "[0.0,\n",
       " 0.04802063588125638,\n",
       " 0.12132063304723499,\n",
       " 0.245179352782658,\n",
       " 0.44487615637224776,\n",
       " 0.7456904051007262,\n",
       " 1.1729014602528163,\n",
       " 1.751788683113239,\n",
       " 2.507631434966718,\n",
       " 3.4657090770979737,\n",
       " 4.65130097079173,\n",
       " 6.089686477332708,\n",
       " 7.806144958005632,\n",
       " 9.82595577409522,\n",
       " 12.174398286886198,\n",
       " 14.876751857663292,\n",
       " 17.958295847711216,\n",
       " 21.444309618314694,\n",
       " 25.360072530758448,\n",
       " 29.730863946327204,\n",
       " 34.58196322630568,\n",
       " 39.9386497319786,\n",
       " 45.82620282463069,\n",
       " 52.269901865546686,\n",
       " 59.295026216011266,\n",
       " 66.92685523730918,\n",
       " 75.19066829072516,\n",
       " 84.11174473754392,\n",
       " 93.71536393905016,\n",
       " 104.02680525652865,\n",
       " 115.0713480512641,\n",
       " 126.87427168454116,\n",
       " 139.46085551764466,\n",
       " 152.85637891185922,\n",
       " 167.0861212284697,\n",
       " 182.17536182876063,\n",
       " 198.1493800740169,\n",
       " 215.0334553255232,\n",
       " 232.8528669445641,\n",
       " 251.6328942924246,\n",
       " 271.3988167303891,\n",
       " 292.17591361974263,\n",
       " 313.9894643217697,\n",
       " 336.8647481977552,\n",
       " 360.82704460898356,\n",
       " 385.90163291673986,\n",
       " 412.1137924823087,\n",
       " 439.4888026669746,\n",
       " 468.0519428320225,\n",
       " 497.828492338737]"
      ]
     },
     "execution_count": 50,
     "metadata": {},
     "output_type": "execute_result"
    }
   ],
   "source": [
    "power"
   ]
  }
 ],
 "metadata": {
  "kernelspec": {
   "display_name": "Python 3",
   "language": "python",
   "name": "python3"
  },
  "language_info": {
   "codemirror_mode": {
    "name": "ipython",
    "version": 3
   },
   "file_extension": ".py",
   "mimetype": "text/x-python",
   "name": "python",
   "nbconvert_exporter": "python",
   "pygments_lexer": "ipython3",
   "version": "3.6.5"
  }
 },
 "nbformat": 4,
 "nbformat_minor": 2
}
