{
 "cells": [
  {
   "cell_type": "code",
   "execution_count": 12,
   "metadata": {},
   "outputs": [],
   "source": [
    "import pandas as pd\n",
    "import numpy as np\n",
    "import json\n",
    "import matplotlib.pyplot as plt\n",
    "%matplotlib inline\n",
    "import seaborn as sns\n",
    "import wget\n",
    "import requests\n",
    "from bs4 import BeautifulSoup"
   ]
  },
  {
   "cell_type": "markdown",
   "metadata": {},
   "source": [
    "### Get nasdaq top 100 companies list"
   ]
  },
  {
   "cell_type": "code",
   "execution_count": 23,
   "metadata": {},
   "outputs": [
    {
     "data": {
      "text/html": [
       "<div>\n",
       "<style scoped>\n",
       "    .dataframe tbody tr th:only-of-type {\n",
       "        vertical-align: middle;\n",
       "    }\n",
       "\n",
       "    .dataframe tbody tr th {\n",
       "        vertical-align: top;\n",
       "    }\n",
       "\n",
       "    .dataframe thead th {\n",
       "        text-align: right;\n",
       "    }\n",
       "</style>\n",
       "<table border=\"1\" class=\"dataframe\">\n",
       "  <thead>\n",
       "    <tr style=\"text-align: right;\">\n",
       "      <th></th>\n",
       "      <th>symbol</th>\n",
       "      <th>name</th>\n",
       "      <th>market_cap</th>\n",
       "      <th>close</th>\n",
       "    </tr>\n",
       "  </thead>\n",
       "  <tbody>\n",
       "    <tr>\n",
       "      <th>0</th>\n",
       "      <td>ATVI</td>\n",
       "      <td>Activision Blizzard, Inc. Common Stock</td>\n",
       "      <td>46,69,94,38,722</td>\n",
       "      <td>$60.71</td>\n",
       "    </tr>\n",
       "    <tr>\n",
       "      <th>1</th>\n",
       "      <td>ADBE</td>\n",
       "      <td>Adobe Inc. Common Stock</td>\n",
       "      <td>1,60,62,86,89,302</td>\n",
       "      <td>$332.38</td>\n",
       "    </tr>\n",
       "  </tbody>\n",
       "</table>\n",
       "</div>"
      ],
      "text/plain": [
       "  symbol                                    name         market_cap    close\n",
       "0   ATVI  Activision Blizzard, Inc. Common Stock    46,69,94,38,722   $60.71\n",
       "1   ADBE                 Adobe Inc. Common Stock  1,60,62,86,89,302  $332.38"
      ]
     },
     "execution_count": 23,
     "metadata": {},
     "output_type": "execute_result"
    }
   ],
   "source": [
    "#url = \"https://www.nasdaq.com/market-activity/quotes/nasdaq-ndx-index\"\n",
    "#r = requests.get(url)\n",
    "#s = BeautifulSoup(r.text, \"lxml\")\n",
    "dfc = pd.read_csv(\"data/nasdaq_100_mcap_close.csv\")\n",
    "dfc.head(2)"
   ]
  },
  {
   "cell_type": "markdown",
   "metadata": {},
   "source": [
    "### Get nasdaq top 100 company stock data"
   ]
  },
  {
   "cell_type": "code",
   "execution_count": 24,
   "metadata": {},
   "outputs": [],
   "source": [
    "def get_company_data(symbol, date_from, date_to):\n",
    "    url = \"https://www.worldtradingdata.com/api/v1/history?symbol=\"+symbol+\"&date_from=\"+date_from+\"&date_to=\"+date_to+\"&sort=newest&api_token=QEs5LtpeTsF7xv85aMmBv5FFl0mQ9BaK3nPZ9ABns4HptPonyZTnoflQfeKy\"\n",
    "    r = requests.get(url)\n",
    "    if \"Message\" not in r.json():\n",
    "        dfs = pd.DataFrame(r.json())\n",
    "        dfi = pd.DataFrame()\n",
    "        for i in range(len(dfs)):\n",
    "            dfi.at[i, \"date\"] = dfs.index[i]\n",
    "            dfi.at[i, \"close\"] = dfs.iloc[i][\"history\"][\"close\"]\n",
    "    else:\n",
    "        dfi = pd.DataFrame(columns=[\"date\", \"close\"])\n",
    "    \n",
    "    return dfi"
   ]
  },
  {
   "cell_type": "code",
   "execution_count": 31,
   "metadata": {
    "scrolled": true
   },
   "outputs": [
    {
     "name": "stdout",
     "output_type": "stream",
     "text": [
      "Processing company 0/103 ATVI\n",
      "Processing company 1/103 ADBE\n",
      "Processing company 2/103 AMD\n",
      "Processing company 3/103 ALXN\n",
      "Processing company 4/103 ALGN\n",
      "Processing company 5/103 GOOG\n",
      "Processing company 6/103 GOOGL\n",
      "Processing company 7/103 AMZN\n",
      "Processing company 8/103 AAL\n",
      "Processing company 9/103 AMGN\n",
      "Processing company 10/103 ADI\n",
      "Processing company 11/103 ANSS\n",
      "Processing company 12/103 AAPL\n",
      "Processing company 13/103 AMAT\n",
      "Processing company 14/103 ASML\n",
      "Processing company 15/103 ADSK\n",
      "Processing company 16/103 ADP\n",
      "Processing company 17/103 BIDU\n",
      "Processing company 18/103 BIIB\n",
      "Processing company 19/103 BMRN\n",
      "Processing company 20/103 BKNG\n",
      "Processing company 21/103 AVGO\n",
      "Processing company 22/103 CDNS\n",
      "Processing company 23/103 CDW\n",
      "Processing company 24/103 CERN\n",
      "Processing company 25/103 CHTR\n",
      "Processing company 26/103 CHKP\n",
      "Processing company 27/103 CTAS\n",
      "Processing company 28/103 CSCO\n",
      "Processing company 29/103 CTXS\n",
      "Processing company 30/103 CTSH\n",
      "Processing company 31/103 CMCSA\n",
      "Processing company 32/103 CPRT\n",
      "Processing company 33/103 CSGP\n",
      "Processing company 34/103 COST\n",
      "Processing company 35/103 CSX\n",
      "Processing company 36/103 DLTR\n",
      "Processing company 37/103 EBAY\n",
      "Processing company 38/103 EA\n",
      "Processing company 39/103 EXC\n",
      "Processing company 40/103 EXPE\n",
      "Processing company 41/103 FB\n",
      "Processing company 42/103 FAST\n",
      "Processing company 43/103 FISV\n",
      "Processing company 44/103 FOX\n",
      "Processing company 45/103 FOXA\n",
      "Processing company 46/103 GILD\n",
      "Processing company 47/103 IDXX\n",
      "Processing company 48/103 ILMN\n",
      "Processing company 49/103 INCY\n",
      "Processing company 50/103 INTC\n",
      "Processing company 51/103 INTU\n",
      "Processing company 52/103 ISRG\n",
      "Processing company 53/103 JD\n",
      "Processing company 54/103 KLAC\n",
      "Processing company 55/103 LRCX\n",
      "Processing company 56/103 LBTYA\n",
      "Processing company 57/103 LBTYK\n",
      "Processing company 58/103 LULU\n",
      "Processing company 59/103 MAR\n",
      "Processing company 60/103 MXIM\n",
      "Processing company 61/103 MELI\n",
      "Processing company 62/103 MCHP\n",
      "Processing company 63/103 MU\n",
      "Processing company 64/103 MSFT\n",
      "Processing company 65/103 MDLZ\n",
      "Processing company 66/103 MNST\n",
      "Processing company 67/103 NTAP\n",
      "Processing company 68/103 NTES\n",
      "Processing company 69/103 NFLX\n",
      "Processing company 70/103 NVDA\n",
      "Processing company 71/103 NXPI\n",
      "Processing company 72/103 ORLY\n",
      "Processing company 73/103 PCAR\n",
      "Processing company 74/103 PAYX\n",
      "Processing company 75/103 PYPL\n",
      "Processing company 76/103 PEP\n",
      "Processing company 77/103 QCOM\n",
      "Processing company 78/103 REGN\n",
      "Processing company 79/103 ROST\n",
      "Processing company 80/103 SGEN\n",
      "Processing company 81/103 SIRI\n",
      "Processing company 82/103 SWKS\n",
      "Processing company 83/103 SPLK\n",
      "Processing company 84/103 SBUX\n",
      "Processing company 85/103 SNPS\n",
      "Processing company 86/103 TMUS\n",
      "Processing company 87/103 TTWO\n",
      "Processing company 88/103 TSLA\n",
      "Processing company 89/103 TXN\n",
      "Processing company 90/103 KHC\n",
      "Processing company 91/103 TCOM\n",
      "Processing company 92/103 ULTA\n",
      "Processing company 93/103 UAL\n",
      "Processing company 94/103 VRSN\n",
      "Processing company 95/103 VRSK\n",
      "Processing company 96/103 VRTX\n",
      "Processing company 97/103 WBA\n",
      "Processing company 98/103 WDC\n",
      "Processing company 99/103 WLTW\n",
      "Processing company 100/103 WDAY\n",
      "Processing company 101/103 XEL\n",
      "Processing company 102/103 XLNX\n"
     ]
    }
   ],
   "source": [
    "dfr = pd.DataFrame()\n",
    "dfm = pd.DataFrame()\n",
    "dft = dfc.copy()\n",
    "#dft = dft[13:]\n",
    "#dft = dfc[dfc[\"symbol\"] == \"TSLA\"]\n",
    "\n",
    "for j in range(len(dft)):\n",
    "    i = dft.index[j]\n",
    "    symbol = dft.iloc[j][\"symbol\"]\n",
    "    print(\"Processing company \" + str(i) + \"/\" + str(len(dft)) + \" \" + symbol)\n",
    "    date_from=\"2013-04-01\"\n",
    "    date_to=\"2020-03-10\"\n",
    "    \n",
    "    dfi = get_company_data(symbol, date_from, date_to)\n",
    "    if len(dfi)>0:\n",
    "        dfi[\"id\"] = i\n",
    "        dfi[\"symbol\"] = symbol\n",
    "        #dfi[\"name\"] = dft.iloc[j][\"name\"]\n",
    "        dfi = dfi[[\"id\", \"symbol\", \"date\", \"close\"]]\n",
    "\n",
    "        dfr = dfr.append(dfi)\n",
    "    else:\n",
    "        dfi = pd.DataFrame()\n",
    "        dfi[\"id\"] = i\n",
    "        dfi[\"symbol\"] = symbol\n",
    "        #dfi[\"name\"] = dft.iloc[j][\"name\"]\n",
    "        dfm = dfm.append(dfi)\n",
    "        print(\"No stock data\")\n",
    "\n",
    "    #if j%100==0 and j!=0:\n",
    "    dfr.to_csv(\"data/nasdaq_top100_stock_data.csv\", index=False, mode=\"a\", header=False)\n",
    "    dfr = pd.DataFrame()"
   ]
  },
  {
   "cell_type": "markdown",
   "metadata": {},
   "source": [
    "### Compute annualised volatility "
   ]
  },
  {
   "cell_type": "code",
   "execution_count": 41,
   "metadata": {},
   "outputs": [],
   "source": [
    "dfc = pd.read_csv(\"data/nasdaq_100_mcap_close.csv\")\n",
    "\n",
    "dfr = pd.read_csv(\"data/nasdaq_top100_stock_data.csv\", header=None)\n",
    "dfr.columns = [\"id\", \"symbol\", \"date\", \"close\"]\n",
    "dfr[\"date\"] = pd.to_datetime(dfr[\"date\"])"
   ]
  },
  {
   "cell_type": "code",
   "execution_count": 104,
   "metadata": {},
   "outputs": [],
   "source": [
    "idx = 0\n",
    "dfmv = pd.DataFrame()\n",
    "\n",
    "for i in range(len(dfc)):\n",
    "    symbol = dfc.iloc[i][\"symbol\"]\n",
    "    company_id = dfr[dfr[\"symbol\"] == symbol][\"id\"].unique()[0]\n",
    "    name = dfc[dfc[\"symbol\"] == symbol][\"name\"].values[0]\n",
    "    mcap = dfc[dfc[\"symbol\"] == symbol][\"market_cap\"].values[0]\n",
    "    dfcs = dfr[dfr[\"symbol\"] == symbol].copy()\n",
    "    dfcs.reset_index(inplace=True)\n",
    "\n",
    "    prev_close = dfcs[\"close\"][1:]\n",
    "    prev_close = prev_close.append(pd.Series(np.NAN), ignore_index=True)\n",
    "    dfcs[\"prev_close\"] = prev_close\n",
    "    dfcs[\"change\"] = (dfcs[\"close\"] - dfcs[\"prev_close\"]) / dfcs[\"prev_close\"]\n",
    "    annualised_volatility = np.std(dfcs[\"change\"]) * np.sqrt(252)\n",
    "\n",
    "    dfmv.at[idx, \"id\"] = company_id\n",
    "    dfmv.at[idx, \"symbol\"] = symbol\n",
    "    dfmv.at[idx, \"name\"] = name\n",
    "    dfmv.at[idx, \"mcap\"] = mcap\n",
    "    dfmv.at[idx, \"av\"] = annualised_volatility\n",
    "    idx+=1\n",
    "\n",
    "dfmv[\"id\"] = dfmv[\"id\"].astype(int)\n",
    "dfmv[\"mcap\"] = dfmv[\"mcap\"].map(lambda x: x.replace(\",\", \"\"))\n",
    "dfmv[\"av\"] = np.round(dfmv[\"av\"], 4)\n",
    "\n",
    "dfmv.to_csv(\"data/nasdaq_top100_mcap_av.csv\", index=False)    "
   ]
  },
  {
   "cell_type": "code",
   "execution_count": null,
   "metadata": {},
   "outputs": [],
   "source": []
  },
  {
   "cell_type": "code",
   "execution_count": null,
   "metadata": {},
   "outputs": [],
   "source": []
  },
  {
   "cell_type": "code",
   "execution_count": null,
   "metadata": {},
   "outputs": [],
   "source": []
  },
  {
   "cell_type": "code",
   "execution_count": null,
   "metadata": {},
   "outputs": [],
   "source": []
  },
  {
   "cell_type": "code",
   "execution_count": null,
   "metadata": {},
   "outputs": [],
   "source": []
  },
  {
   "cell_type": "code",
   "execution_count": null,
   "metadata": {},
   "outputs": [],
   "source": []
  },
  {
   "cell_type": "code",
   "execution_count": null,
   "metadata": {},
   "outputs": [],
   "source": []
  },
  {
   "cell_type": "code",
   "execution_count": null,
   "metadata": {},
   "outputs": [],
   "source": []
  },
  {
   "cell_type": "code",
   "execution_count": null,
   "metadata": {},
   "outputs": [],
   "source": []
  },
  {
   "cell_type": "code",
   "execution_count": null,
   "metadata": {},
   "outputs": [],
   "source": []
  },
  {
   "cell_type": "code",
   "execution_count": null,
   "metadata": {},
   "outputs": [],
   "source": []
  },
  {
   "cell_type": "code",
   "execution_count": null,
   "metadata": {},
   "outputs": [],
   "source": []
  },
  {
   "cell_type": "code",
   "execution_count": null,
   "metadata": {},
   "outputs": [],
   "source": []
  },
  {
   "cell_type": "code",
   "execution_count": null,
   "metadata": {},
   "outputs": [],
   "source": []
  },
  {
   "cell_type": "code",
   "execution_count": null,
   "metadata": {},
   "outputs": [],
   "source": []
  },
  {
   "cell_type": "code",
   "execution_count": null,
   "metadata": {},
   "outputs": [],
   "source": []
  },
  {
   "cell_type": "code",
   "execution_count": null,
   "metadata": {},
   "outputs": [],
   "source": []
  }
 ],
 "metadata": {
  "kernelspec": {
   "display_name": "Python 3",
   "language": "python",
   "name": "python3"
  },
  "language_info": {
   "codemirror_mode": {
    "name": "ipython",
    "version": 3
   },
   "file_extension": ".py",
   "mimetype": "text/x-python",
   "name": "python",
   "nbconvert_exporter": "python",
   "pygments_lexer": "ipython3",
   "version": "3.6.5"
  }
 },
 "nbformat": 4,
 "nbformat_minor": 2
}
