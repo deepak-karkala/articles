{
 "cells": [
  {
   "cell_type": "code",
   "execution_count": 2,
   "metadata": {},
   "outputs": [],
   "source": [
    "import pandas as pd\n",
    "import numpy as np\n",
    "import json\n",
    "#from tqdm import tqdm\n",
    "import matplotlib.pyplot as plt\n",
    "%matplotlib inline\n",
    "import requests"
   ]
  },
  {
   "cell_type": "code",
   "execution_count": 2,
   "metadata": {},
   "outputs": [
    {
     "data": {
      "text/plain": [
       "0.48367359770932183"
      ]
     },
     "execution_count": 2,
     "metadata": {},
     "output_type": "execute_result"
    }
   ],
   "source": [
    "1 - 1.06751/2.06751"
   ]
  },
  {
   "cell_type": "code",
   "execution_count": 3,
   "metadata": {},
   "outputs": [],
   "source": [
    "scale_factor = 1e6"
   ]
  },
  {
   "cell_type": "code",
   "execution_count": 1,
   "metadata": {},
   "outputs": [],
   "source": [
    "import os"
   ]
  },
  {
   "cell_type": "code",
   "execution_count": 6,
   "metadata": {},
   "outputs": [],
   "source": [
    "import imageio\n",
    "import os\n",
    "\n",
    "images = []\n",
    "for f in os.listdir(\"img/\"):\n",
    "    #print(filename)\n",
    "    filename = \"img/\" + f\n",
    "    images.append(imageio.imread(filename))\n",
    "imageio.mimsave('religion_diversity.gif', images, duration=1)"
   ]
  },
  {
   "cell_type": "code",
   "execution_count": null,
   "metadata": {},
   "outputs": [],
   "source": []
  },
  {
   "cell_type": "markdown",
   "metadata": {},
   "source": [
    "#### Total population"
   ]
  },
  {
   "cell_type": "code",
   "execution_count": 30,
   "metadata": {},
   "outputs": [
    {
     "data": {
      "text/plain": [
       "1324"
      ]
     },
     "execution_count": 30,
     "metadata": {},
     "output_type": "execute_result"
    }
   ],
   "source": [
    "population_total = 1324171354\n",
    "population_scaled = round(population_total/scale_factor)\n",
    "population_scaled"
   ]
  },
  {
   "cell_type": "markdown",
   "metadata": {},
   "source": [
    "#### Split by gender"
   ]
  },
  {
   "cell_type": "code",
   "execution_count": 24,
   "metadata": {},
   "outputs": [],
   "source": [
    "male_population_total = 1.06751/2.06751 * population_total\n",
    "female_population_total = population_total - male_population_total\n",
    "male_population_scaled = round(1.06751/2.06751 * population_scaled)\n",
    "female_population_scaled = population_scaled - male_population_scaled"
   ]
  },
  {
   "cell_type": "markdown",
   "metadata": {},
   "source": [
    "#### Split by religion"
   ]
  },
  {
   "cell_type": "code",
   "execution_count": 61,
   "metadata": {},
   "outputs": [],
   "source": [
    "hindus_percentage = 79.80\n",
    "muslims_percentage = 14.23\n",
    "christians_percentage = 2.30\n",
    "sikhs_percentage = 1.72\n",
    "buddhists_percentage = 0.70\n",
    "jains_percentage = 0.37\n",
    "others_percentage = 0.66\n",
    "notstated_percentage = 0.24\n",
    "\n",
    "hindus_population_total = round(population_total * hindus_percentage/100)\n",
    "muslims_population_total = round(population_total * muslims_percentage/100)\n",
    "christians_population_total = round(population_total * christians_percentage/100)\n",
    "sikhs_population_total = round(population_total * sikhs_percentage/100)\n",
    "buddhists_population_total = round(population_total * buddhists_percentage/100)\n",
    "jains_population_total = round(population_total * jains_percentage/100)\n",
    "others_population_total = round(population_total * others_percentage/100)\n",
    "notstated_population_total = round(population_total * notstated_percentage/100)\n",
    "\n",
    "hindus_population_scaled = round(population_scaled * hindus_percentage / 100)\n",
    "muslims_population_scaled = round(population_scaled * muslims_percentage / 100)\n",
    "christians_population_scaled = round(population_scaled * christians_percentage / 100)\n",
    "sikhs_population_scaled = round(population_scaled * sikhs_percentage / 100)\n",
    "buddhists_population_scaled = round(population_scaled * buddhists_percentage / 100)\n",
    "jains_population_scaled = round(population_scaled * jains_percentage / 100)\n",
    "others_population_scaled = round(population_scaled * others_percentage / 100)\n",
    "notstated_population_scaled = round(population_scaled * notstated_percentage / 100)\n",
    "\n",
    "religion_thresholds = []\n",
    "acc = 0\n",
    "\n",
    "for i in range(8):\n",
    "    if i==1:\n",
    "        acc += hindus_population_scaled\n",
    "    elif i==2:\n",
    "        acc += muslims_population_scaled\n",
    "    elif i==3:\n",
    "        acc += christians_population_scaled\n",
    "    elif i==4:\n",
    "        acc += sikhs_population_scaled\n",
    "    elif i==5:\n",
    "        acc += buddhists_population_scaled\n",
    "    elif i==6:\n",
    "        acc += jains_population_scaled\n",
    "    elif i==7:\n",
    "        acc += others_population_scaled\n",
    "    elif i==8:\n",
    "        acc += notstated_population_scaled\n",
    "    \n",
    "    religion_thresholds.append(acc)\n",
    "religion_thresholds"
   ]
  },
  {
   "cell_type": "markdown",
   "metadata": {},
   "source": [
    "#### Split by states"
   ]
  },
  {
   "cell_type": "code",
   "execution_count": 288,
   "metadata": {
    "scrolled": true
   },
   "outputs": [],
   "source": [
    "dfsp = pd.read_csv(\"../bubble_chart_v4/data/state_population.csv\", sep=\"\\t\", usecols=[1,3])\n",
    "dfsp.columns = [[\"state\", \"percentage\"]]\n",
    "dfsp[\"population_total\"] = population_total\n",
    "dfsp[\"population_scaled\"] = population_scaled\n",
    "dfsp[\"state_population_total\"] = round(dfsp[\"percentage\"] * dfsp[\"population_total\"] / 100)\n",
    "dfsp[\"state_population_scaled\"] = round(dfsp[\"percentage\"] * dfsp[\"population_scaled\"] / 100)\n",
    "dfsp[\"state_population_scaled\"].replace(0,1, inplace=True)\n",
    "\n",
    "#Decrement 1 for top 3 populous states to accomodate bottom 3 populous states\n",
    "dfsp.loc[dfsp[\"state\"].isin([\"Uttar Pradesh\", \"Maharashtra\", \"Bihar\"]), \"state_population_scaled\"] = dfsp.loc[dfsp[\"state\"].isin([\"Uttar Pradesh\", \"Maharashtra\", \"Bihar\"]), \"state_population_scaled\"] - 1\n",
    "\n",
    "state_population = []\n",
    "for state in dfsp[\"state\"]:\n",
    "    state_population.append([state for pop in range(int(dfsp[dfsp[\"state\"]==state][\"state_population_scaled\"].values[0]))])\n",
    "\n",
    "state_population = [item for sublist in state_population for item in sublist]"
   ]
  },
  {
   "cell_type": "markdown",
   "metadata": {},
   "source": [
    "#### State literacy"
   ]
  },
  {
   "cell_type": "code",
   "execution_count": 308,
   "metadata": {
    "scrolled": true
   },
   "outputs": [],
   "source": [
    "dfsl = pd.read_csv(\"../bubble_chart_v4/data/state_literacy.csv\", sep=\"\\t\", usecols=[1,2])\n",
    "dfsl.columns = [[\"state\", \"literacy\"]]\n",
    "dfspl = dfsp.set_index(\"state\").join(dfsl.set_index(\"state\")).reset_index()\n",
    "dfspl[\"literate_population_scaled\"] = round(dfspl[\"state_population_scaled\"] * dfspl[\"literacy\"] / 100)\n",
    "dfspl[\"illiterate_population_scaled\"] = dfspl[\"state_population_scaled\"] - dfspl[\"literate_population_scaled\"]\n",
    "\n",
    "literate_population = []\n",
    "for state in dfspl[\"state\"]:\n",
    "    state_illiterate_population_scaled = int(dfspl[dfspl[\"state\"]==state][\"illiterate_population_scaled\"].values[0])\n",
    "    literate_population.append([0] * state_illiterate_population_scaled)\n",
    "    state_literate_population_scaled = int(dfspl[dfspl[\"state\"]==state][\"literate_population_scaled\"].values[0])\n",
    "    literate_population.append([1] * state_literate_population_scaled)\n",
    "\n",
    "literate_population = [item for sublist in literate_population for item in sublist]"
   ]
  },
  {
   "cell_type": "code",
   "execution_count": null,
   "metadata": {
    "collapsed": true
   },
   "outputs": [],
   "source": []
  },
  {
   "cell_type": "markdown",
   "metadata": {},
   "source": [
    "#### Age group"
   ]
  },
  {
   "cell_type": "code",
   "execution_count": 178,
   "metadata": {
    "collapsed": true
   },
   "outputs": [],
   "source": [
    "\"\"\"\n",
    "https://www.indexmundi.com/india/demographics_profile.html\n",
    "0-14 years: 27.34% (male 186,087,665/female 164,398,204)\n",
    "15-24 years: 17.9% (male 121,879,786/female 107,583,437)\n",
    "25-54 years: 41.08% (male 271,744,709/female 254,834,569)\n",
    "55-64 years: 7.45% (male 47,846,122/female 47,632,532)\n",
    "65 years and over: 6.24% (male 37,837,801/female 42,091,086) (2017 est.)\n",
    "\"\"\"\n",
    "agegroup_percentage = [27.34, 17.9, 41.08, 7.45, 6.24]\n",
    "agegroup_population_scaled = [round(x*population_scaled/100) for x in agegroup_percentage]\n",
    "agegroup_population = []\n",
    "for i in range(len(agegroup_population_scaled)):\n",
    "    agegroup_population.append([i] * agegroup_population_scaled[i])\n",
    "\n",
    "agegroup_population = [item for sublist in agegroup_population for item in sublist]"
   ]
  },
  {
   "cell_type": "markdown",
   "metadata": {},
   "source": [
    "### Rural/urban divide"
   ]
  },
  {
   "cell_type": "code",
   "execution_count": 188,
   "metadata": {
    "collapsed": true
   },
   "outputs": [],
   "source": [
    "#33.5% of total population\n",
    "#https://www.indexmundi.com/india/demographics_profile.html\n",
    "rural_population_percentage = 33.5\n",
    "rural_population_scaled = round(population_scaled * rural_population_percentage / 100)\n",
    "urban_population_scaled = population_scaled - rural_population_scaled\n",
    "\n",
    "ruralurban_population = []\n",
    "ruralurban_population.append([0] * rural_population_scaled) #Rural\n",
    "ruralurban_population.append([1] * urban_population_scaled) #Urban\n",
    "\n",
    "ruralurban_population = [item for sublist in ruralurban_population for item in sublist]"
   ]
  },
  {
   "cell_type": "markdown",
   "metadata": {},
   "source": [
    "### Languages"
   ]
  },
  {
   "cell_type": "code",
   "execution_count": 233,
   "metadata": {
    "scrolled": true
   },
   "outputs": [],
   "source": [
    "#https://en.wikipedia.org/wiki/List_of_languages_by_number_of_native_speakers_in_India\n",
    "dfl = pd.read_csv(\"../bubble_chart_v4/data/language2.csv\", sep=\"\\t\", header=None, usecols=[1,8])\n",
    "dfl.columns = [[\"language\", \"percentage\"]]\n",
    "dfl[\"population_scaled\"] = population_scaled\n",
    "dfl[\"language_population_scaled\"] = round(dfl[\"population_scaled\"] * dfl[\"percentage\"] / 100)\n",
    "dfl.loc[dfl[\"language\"]==\"Hindi\", \"language_population_scaled\"] = dfl[dfl[\"language\"]==\"Hindi\"][\"language_population_scaled\"] - 3\n",
    "dfl\n",
    "language_population = []\n",
    "for i in range(len(dfl)):\n",
    "    language_population.append([dfl.iloc[i][\"language\"] for j in range(int(dfl.iloc[i][\"language_population_scaled\"]))])\n",
    "language_population = [item for sublist in language_population for item in sublist]"
   ]
  },
  {
   "cell_type": "markdown",
   "metadata": {},
   "source": [
    "#### Unemployment rate"
   ]
  },
  {
   "cell_type": "code",
   "execution_count": 315,
   "metadata": {},
   "outputs": [
    {
     "name": "stdout",
     "output_type": "stream",
     "text": [
      "\n"
     ]
    }
   ],
   "source": [
    "\"\"\"\n",
    "#3.52% of total population [2017]\n",
    "#https://tradingeconomics.com/india/unemployment-rate\n",
    "#https://www.statista.com/statistics/271330/unemployment-rate-in-india/\n",
    "unemployed_population_percentage = 3.52\n",
    "unemployed_population_scaled = round(population_scaled * unemployed_population_percentage / 100)\n",
    "employed_population_scaled = population_scaled - unemployed_population_scaled\n",
    "\n",
    "unemployed_population = []\n",
    "unemployed_population.append([0] * unemployed_population_scaled) #Unemployed\n",
    "unemployed_population.append([1] * employed_population_scaled) #Employed\n",
    "\n",
    "unemployed_population = [item for sublist in unemployed_population for item in sublist]\n",
    "\"\"\"\n",
    "print()"
   ]
  },
  {
   "cell_type": "markdown",
   "metadata": {},
   "source": [
    "#### Sanitation"
   ]
  },
  {
   "cell_type": "code",
   "execution_count": 238,
   "metadata": {},
   "outputs": [],
   "source": [
    "#https://data.worldbank.org/indicator/SH.STA.ODFC.ZS?locations=IN\n",
    "unsanitation_population_percentage = 39.8 #Open defecation\n",
    "unsanitation_population_scaled = round(population_scaled * unsanitation_population_percentage / 100)\n",
    "sanitation_population_scaled = population_scaled - unsanitation_population_scaled\n",
    "\n",
    "sanitation_population = []\n",
    "sanitation_population.append([0] * unsanitation_population_scaled) #Open\n",
    "sanitation_population.append([1] * sanitation_population_scaled) \n",
    "\n",
    "sanitation_population = [item for sublist in sanitation_population for item in sublist]"
   ]
  },
  {
   "cell_type": "markdown",
   "metadata": {},
   "source": [
    "#### Poverty"
   ]
  },
  {
   "cell_type": "code",
   "execution_count": 310,
   "metadata": {
    "collapsed": true
   },
   "outputs": [],
   "source": [
    "#https://en.wikipedia.org/wiki/Poverty_in_India - As of 2014, 58% of the total population were living on less than $3.10 per day.\n",
    "poverty_population_percentage = 58\n",
    "#poverty_population_scaled\n",
    "poverty_population_scaled = round(population_scaled * poverty_population_percentage / 100)\n",
    "nonpoverty_population_scaled = population_scaled - poverty_population_scaled\n",
    "\n",
    "poverty_population = []\n",
    "poverty_population.append([0] * poverty_population_scaled) #Poverty\n",
    "poverty_population.append([1] * nonpoverty_population_scaled) \n",
    "\n",
    "poverty_population = [item for sublist in poverty_population for item in sublist]"
   ]
  },
  {
   "cell_type": "markdown",
   "metadata": {},
   "source": [
    "#### Employment sectors"
   ]
  },
  {
   "cell_type": "code",
   "execution_count": 318,
   "metadata": {
    "collapsed": true
   },
   "outputs": [],
   "source": [
    "#### Employment sectors\n",
    "#https://www.statista.com/statistics/271320/distribution-of-the-workforce-across-economic-sectors-in-india/\n",
    "#agriculture: 42.74, industry:23.79, services: 33.48, Unemployed:3.52%\n",
    "unemployed_percentage = 3.52\n",
    "agriculture_percentage = (100-unemployed_percentage)*42.74/100\n",
    "industry_percentage = (100-unemployed_percentage)*23.79/100\n",
    "services_percentage = (100-unemployed_percentage)*33.48/100\n",
    "\n",
    "agriculture_population_scaled = round(population_scaled * agriculture_percentage / 100) \n",
    "industry_population_scaled = round(population_scaled * industry_percentage / 100) \n",
    "services_population_scaled = round(population_scaled * services_percentage / 100) \n",
    "employed_population_scaled = agriculture_population_scaled + industry_population_scaled + services_population_scaled\n",
    "unemployed_population_scaled = population_scaled - employed_population_scaled\n",
    "\n",
    "sector_population = []\n",
    "sector_population.append([0] * agriculture_population_scaled)\n",
    "sector_population.append([1] * industry_population_scaled)\n",
    "sector_population.append([2] * services_population_scaled)\n",
    "sector_population.append([3] * unemployed_population_scaled)\n",
    "\n",
    "sector_population = [item for sublist in sector_population for item in sublist]"
   ]
  },
  {
   "cell_type": "markdown",
   "metadata": {},
   "source": [
    "#### Tax payers"
   ]
  },
  {
   "cell_type": "code",
   "execution_count": 311,
   "metadata": {
    "collapsed": true
   },
   "outputs": [],
   "source": [
    "#percent_tax_payers = 2\n",
    "\n",
    "tax_population_percentage = 2\n",
    "tax_population_scaled = round(population_scaled * tax_population_percentage / 100)\n",
    "nontax_population_scaled = population_scaled - tax_population_scaled\n",
    "\n",
    "tax_population = []\n",
    "tax_population.append([0] * tax_population_scaled) #Tax payers\n",
    "tax_population.append([1] * nontax_population_scaled) \n",
    "\n",
    "tax_population = [item for sublist in tax_population for item in sublist]"
   ]
  },
  {
   "cell_type": "code",
   "execution_count": null,
   "metadata": {
    "collapsed": true
   },
   "outputs": [],
   "source": []
  },
  {
   "cell_type": "code",
   "execution_count": 323,
   "metadata": {},
   "outputs": [],
   "source": [
    "df = pd.DataFrame()\n",
    "idx = 0\n",
    "\n",
    "for i in range(population_scaled):\n",
    "    \n",
    "    #####################################\n",
    "    ############# Gender ################\n",
    "    #####################################\n",
    "    if i<= male_population_scaled:\n",
    "        # Male\n",
    "        df.at[idx, \"gender\"] = \"male\"\n",
    "    else:\n",
    "        # Female\n",
    "        df.at[idx, \"gender\"] = \"female\"\n",
    "    #####################################\n",
    "\n",
    "        \n",
    "    ########################################################\n",
    "    ##################### Religion #########################\n",
    "    ########################################################\n",
    "    if i>=religion_thresholds[0] and i<=religion_thresholds[1]:\n",
    "        df.at[idx, \"religion\"] = \"Hindu\"\n",
    "    elif i>religion_thresholds[1] and i<=religion_thresholds[2]:\n",
    "        df.at[idx, \"religion\"] = \"Muslim\"    \n",
    "    elif i>religion_thresholds[2] and i<=religion_thresholds[3]:\n",
    "        df.at[idx, \"religion\"] = \"Christian\"            \n",
    "    elif i>religion_thresholds[3] and i<=religion_thresholds[4]:\n",
    "        df.at[idx, \"religion\"] = \"Sikh\"            \n",
    "    elif i>religion_thresholds[4] and i<=religion_thresholds[5]:\n",
    "        df.at[idx, \"religion\"] = \"Buddhist\"            \n",
    "    elif i>religion_thresholds[5] and i<=religion_thresholds[6]:\n",
    "        df.at[idx, \"religion\"] = \"Jain\"            \n",
    "    elif i>religion_thresholds[6] and i<=religion_thresholds[7]:\n",
    "        df.at[idx, \"religion\"] = \"Other\"            \n",
    "    elif i>religion_thresholds[7]:\n",
    "        df.at[idx, \"religion\"] = \"Not stated\"            \n",
    "    ##############################################################\n",
    "    ##############################################################\n",
    "        \n",
    "    idx+=1\n",
    "df[\"state\"] = state_population\n",
    "df[\"agegroup\"] = agegroup_population[:len(df)]\n",
    "df[\"ruralurban\"] = ruralurban_population\n",
    "df[\"language\"] = language_population\n",
    "df[\"literacy\"] = literate_population\n",
    "df[\"employment\"] = sector_population\n",
    "df[\"poverty\"] = poverty_population\n",
    "df[\"tax\"] = tax_population\n",
    "df[\"sanitation\"] = sanitation_population\n",
    "df.reset_index(inplace=True)\n",
    "df.rename(columns={\"index\":\"id\"}, inplace=True)\n",
    "df.to_csv(\"../bubble_chart_v4/data/india_demographics.csv\", index=False)"
   ]
  },
  {
   "cell_type": "code",
   "execution_count": null,
   "metadata": {
    "collapsed": true
   },
   "outputs": [],
   "source": []
  },
  {
   "cell_type": "markdown",
   "metadata": {
    "collapsed": true
   },
   "source": [
    "### Random ordering"
   ]
  },
  {
   "cell_type": "code",
   "execution_count": 14,
   "metadata": {
    "collapsed": true
   },
   "outputs": [],
   "source": [
    "df = pd.read_csv(\"../code/data/india_demographics.csv\")"
   ]
  },
  {
   "cell_type": "code",
   "execution_count": 15,
   "metadata": {},
   "outputs": [
    {
     "data": {
      "text/plain": [
       "Index(['id', 'gender', 'religion', 'state', 'agegroup', 'ruralurban',\n",
       "       'language', 'literacy', 'employment', 'poverty', 'tax', 'sanitation'],\n",
       "      dtype='object')"
      ]
     },
     "execution_count": 15,
     "metadata": {},
     "output_type": "execute_result"
    }
   ],
   "source": [
    "df.columns"
   ]
  },
  {
   "cell_type": "code",
   "execution_count": 17,
   "metadata": {},
   "outputs": [],
   "source": [
    "dfr = pd.DataFrame() #df.copy()\n",
    "dfr[\"gender\"] = df[\"gender\"].sample(frac=1)\n",
    "dfr[\"religion\"] = df[\"religion\"].sample(frac=1)\n",
    "dfr[\"agegroup\"] = df[\"agegroup\"].sample(frac=1)\n",
    "dfr[\"ruralurban\"] = df[\"ruralurban\"].sample(frac=1)\n",
    "dfr[\"language\"] = df[\"language\"].sample(frac=1)\n",
    "dfr[\"employment\"] = df[\"employment\"].sample(frac=1)\n",
    "dfr[\"poverty\"] = df[\"poverty\"].sample(frac=1)\n",
    "dfr[\"tax\"] = df[\"tax\"].sample(frac=1)\n",
    "dfr[\"sanitation\"] = df[\"sanitation\"].sample(frac=1)\n",
    "dfr[[\"state\",\"literacy\"]] = df[[\"state\",\"literacy\"]].sample(frac=1)"
   ]
  },
  {
   "cell_type": "code",
   "execution_count": 19,
   "metadata": {
    "collapsed": true
   },
   "outputs": [],
   "source": [
    "dfr.to_csv(\"../code/data/india_demographics_shuffled.csv\", index=False)"
   ]
  },
  {
   "cell_type": "code",
   "execution_count": null,
   "metadata": {
    "collapsed": true
   },
   "outputs": [],
   "source": []
  },
  {
   "cell_type": "code",
   "execution_count": 332,
   "metadata": {},
   "outputs": [
    {
     "data": {
      "text/plain": [
       "array(['Hindi', 'Bengali', 'Marathi', 'Telugu', 'Tamil', 'Gujarati',\n",
       "       'Urdu', 'Kannada', 'Odia', 'Malayalam', 'Punjabi', 'Assamese',\n",
       "       'Maithili', 'Bhili/Bhilodi', 'Santali', 'Kashmiri', 'Gondi',\n",
       "       'Nepali', 'Sindhi', 'Dogri', 'Konkani', 'Kurukh', 'Khandeshi',\n",
       "       'Tulu', 'Meitei (Manipuri)', 'Bodo', 'Khasi', 'Ho', 'Mundari',\n",
       "       'Garo', 'Tripuri'], dtype=object)"
      ]
     },
     "execution_count": 332,
     "metadata": {},
     "output_type": "execute_result"
    }
   ],
   "source": [
    "df[\"language\"].unique()"
   ]
  },
  {
   "cell_type": "code",
   "execution_count": 330,
   "metadata": {},
   "outputs": [
    {
     "data": {
      "text/plain": [
       "array(['Uttar Pradesh', 'Maharashtra', 'Bihar', 'West Bengal',\n",
       "       'Madhya Pradesh', 'Tamil Nadu', 'Rajasthan', 'Karnataka', 'Gujarat',\n",
       "       'Andhra Pradesh', 'Odisha', 'Telangana', 'Kerala', 'Jharkhand',\n",
       "       'Assam', 'Punjab', 'Chhattisgarh', 'Haryana', 'Delhi',\n",
       "       'Jammu and Kashmir', 'Uttarakhand', 'Himachal Pradesh', 'Tripura',\n",
       "       'Meghalaya', 'Manipur', 'Nagaland', 'Goa', 'Arunachal Pradesh',\n",
       "       'Puducherry', 'Mizoram', 'Chandigarh', 'Sikkim',\n",
       "       'Andaman and Nicobar Islands', 'Dadra and Nagar Haveli',\n",
       "       'Daman and Diu', 'Lakshadweep'], dtype=object)"
      ]
     },
     "execution_count": 330,
     "metadata": {},
     "output_type": "execute_result"
    }
   ],
   "source": [
    "df[\"state\"].unique()"
   ]
  },
  {
   "cell_type": "code",
   "execution_count": 4,
   "metadata": {},
   "outputs": [
    {
     "data": {
      "text/plain": [
       "array(['Gujarati', 'Bengali', 'Marathi', 'Bhili/Bhilodi', 'Hindi',\n",
       "       'Telugu', 'Kannada', 'Punjabi', 'Konkani', 'Urdu', 'Maithili',\n",
       "       'Tamil', 'Odia', 'Assamese', 'Malayalam', 'Gondi', 'Santali',\n",
       "       'Bodo', 'Sindhi', 'Dogri', 'Khasi', 'Nepali', 'Kashmiri',\n",
       "       'Tripuri', 'Meitei (Manipuri)', 'Garo', 'Ho', 'Khandeshi', 'Tulu',\n",
       "       'Kurukh', 'Mundari'], dtype=object)"
      ]
     },
     "execution_count": 4,
     "metadata": {},
     "output_type": "execute_result"
    }
   ],
   "source": [
    "df = pd.read_csv(\"../code/data/india_demographics_shuffled.csv\")\n"
   ]
  },
  {
   "cell_type": "code",
   "execution_count": 5,
   "metadata": {},
   "outputs": [
    {
     "data": {
      "text/plain": [
       "31"
      ]
     },
     "execution_count": 5,
     "metadata": {},
     "output_type": "execute_result"
    }
   ],
   "source": [
    "len(df[\"language\"].unique())"
   ]
  },
  {
   "cell_type": "code",
   "execution_count": null,
   "metadata": {},
   "outputs": [],
   "source": []
  }
 ],
 "metadata": {
  "anaconda-cloud": {},
  "kernelspec": {
   "display_name": "Python 3",
   "language": "python",
   "name": "python3"
  },
  "language_info": {
   "codemirror_mode": {
    "name": "ipython",
    "version": 3
   },
   "file_extension": ".py",
   "mimetype": "text/x-python",
   "name": "python",
   "nbconvert_exporter": "python",
   "pygments_lexer": "ipython3",
   "version": "3.6.5"
  }
 },
 "nbformat": 4,
 "nbformat_minor": 1
}
